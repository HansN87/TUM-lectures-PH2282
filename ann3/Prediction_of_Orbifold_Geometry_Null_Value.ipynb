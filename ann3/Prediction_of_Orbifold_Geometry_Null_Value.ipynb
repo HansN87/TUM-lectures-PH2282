{
 "cells": [
  {
   "cell_type": "markdown",
   "metadata": {},
   "source": [
    "# Determine Null value "
   ]
  },
  {
   "cell_type": "markdown",
   "metadata": {},
   "source": [
    "Simple prediction without any knowledge about correlations in our dataset\n",
    "\n",
    "Builds our baseline for predictions with ML"
   ]
  },
  {
   "cell_type": "code",
   "execution_count": 4,
   "metadata": {},
   "outputs": [
    {
     "data": {
      "text/html": [
       "<div>\n",
       "<style scoped>\n",
       "    .dataframe tbody tr th:only-of-type {\n",
       "        vertical-align: middle;\n",
       "    }\n",
       "\n",
       "    .dataframe tbody tr th {\n",
       "        vertical-align: top;\n",
       "    }\n",
       "\n",
       "    .dataframe thead th {\n",
       "        text-align: right;\n",
       "    }\n",
       "</style>\n",
       "<table border=\"1\" class=\"dataframe\">\n",
       "  <thead>\n",
       "    <tr style=\"text-align: right;\">\n",
       "      <th></th>\n",
       "      <th>Y0</th>\n",
       "      <th>Y1</th>\n",
       "      <th>Y2</th>\n",
       "      <th>Y3</th>\n",
       "      <th>Y4</th>\n",
       "      <th>Y5</th>\n",
       "      <th>Y6</th>\n",
       "      <th>Y7</th>\n",
       "      <th>Y8</th>\n",
       "      <th>Y9</th>\n",
       "      <th>Y10</th>\n",
       "      <th>Y11</th>\n",
       "      <th>Y12</th>\n",
       "      <th>Y13</th>\n",
       "    </tr>\n",
       "  </thead>\n",
       "  <tbody>\n",
       "    <tr>\n",
       "      <th>0</th>\n",
       "      <td>Z2xZ2</td>\n",
       "      <td>7</td>\n",
       "      <td>3</td>\n",
       "      <td>238</td>\n",
       "      <td>47</td>\n",
       "      <td>1</td>\n",
       "      <td>1</td>\n",
       "      <td>9</td>\n",
       "      <td>6</td>\n",
       "      <td>1</td>\n",
       "      <td>6</td>\n",
       "      <td>0</td>\n",
       "      <td>12</td>\n",
       "      <td>42</td>\n",
       "    </tr>\n",
       "    <tr>\n",
       "      <th>1</th>\n",
       "      <td>Z2xZ2</td>\n",
       "      <td>7</td>\n",
       "      <td>3</td>\n",
       "      <td>214</td>\n",
       "      <td>47</td>\n",
       "      <td>1</td>\n",
       "      <td>1</td>\n",
       "      <td>5</td>\n",
       "      <td>2</td>\n",
       "      <td>1</td>\n",
       "      <td>6</td>\n",
       "      <td>0</td>\n",
       "      <td>12</td>\n",
       "      <td>50</td>\n",
       "    </tr>\n",
       "    <tr>\n",
       "      <th>2</th>\n",
       "      <td>Z2xZ2</td>\n",
       "      <td>7</td>\n",
       "      <td>3</td>\n",
       "      <td>250</td>\n",
       "      <td>51</td>\n",
       "      <td>1</td>\n",
       "      <td>1</td>\n",
       "      <td>7</td>\n",
       "      <td>4</td>\n",
       "      <td>1</td>\n",
       "      <td>8</td>\n",
       "      <td>0</td>\n",
       "      <td>16</td>\n",
       "      <td>48</td>\n",
       "    </tr>\n",
       "    <tr>\n",
       "      <th>3</th>\n",
       "      <td>Z2xZ2</td>\n",
       "      <td>7</td>\n",
       "      <td>3</td>\n",
       "      <td>250</td>\n",
       "      <td>35</td>\n",
       "      <td>1</td>\n",
       "      <td>1</td>\n",
       "      <td>7</td>\n",
       "      <td>4</td>\n",
       "      <td>1</td>\n",
       "      <td>10</td>\n",
       "      <td>0</td>\n",
       "      <td>12</td>\n",
       "      <td>46</td>\n",
       "    </tr>\n",
       "    <tr>\n",
       "      <th>4</th>\n",
       "      <td>Z2xZ2</td>\n",
       "      <td>7</td>\n",
       "      <td>3</td>\n",
       "      <td>234</td>\n",
       "      <td>51</td>\n",
       "      <td>1</td>\n",
       "      <td>1</td>\n",
       "      <td>7</td>\n",
       "      <td>4</td>\n",
       "      <td>1</td>\n",
       "      <td>6</td>\n",
       "      <td>0</td>\n",
       "      <td>20</td>\n",
       "      <td>42</td>\n",
       "    </tr>\n",
       "  </tbody>\n",
       "</table>\n",
       "</div>"
      ],
      "text/plain": [
       "      Y0  Y1  Y2   Y3  Y4  Y5  Y6  Y7  Y8  Y9  Y10  Y11  Y12  Y13\n",
       "0  Z2xZ2   7   3  238  47   1   1   9   6   1    6    0   12   42\n",
       "1  Z2xZ2   7   3  214  47   1   1   5   2   1    6    0   12   50\n",
       "2  Z2xZ2   7   3  250  51   1   1   7   4   1    8    0   16   48\n",
       "3  Z2xZ2   7   3  250  35   1   1   7   4   1   10    0   12   46\n",
       "4  Z2xZ2   7   3  234  51   1   1   7   4   1    6    0   20   42"
      ]
     },
     "execution_count": 4,
     "metadata": {},
     "output_type": "execute_result"
    }
   ],
   "source": [
    "# load Data\n",
    "import pandas as pd\n",
    "\n",
    "df = pd.read_csv(\"HeteroticOrbifoldMSSMs.csv\")\n",
    "df = df.drop('Unnamed: 0', axis = 1)\n",
    "df.head()"
   ]
  },
  {
   "cell_type": "code",
   "execution_count": 2,
   "metadata": {},
   "outputs": [
    {
     "name": "stdout",
     "output_type": "stream",
     "text": [
      "That often Geometies occur:\n",
      "[ 1111   363  1613 55058   936  3289  5033   176 48754    60  1421  3696\n",
      "   903  2528]\n",
      "Value which occurs most often\n",
      "3\n",
      "Transformation Table\n",
      "{'Z12-I': 0, 'Z12-II': 1, 'Z2xZ2': 2, 'Z2xZ4': 3, 'Z2xZ6-I': 4, 'Z3xZ3': 5, 'Z3xZ6': 6, 'Z4': 7, 'Z4xZ4': 8, 'Z6-I': 9, 'Z6-II': 10, 'Z6xZ6': 11, 'Z8-I': 12, 'Z8-II': 13}\n"
     ]
    }
   ],
   "source": [
    "# check which Geometry label occurs most often\n",
    "import numpy as np\n",
    "from sklearn.preprocessing import LabelEncoder\n",
    "\n",
    "le = LabelEncoder()                     # initialize LabelEncoder\n",
    "le.fit(df.Y0)                           # fit LabelEncoder on Y0\n",
    "df_Y0 = le.transform(df.Y0)             # transform Y0 to integer\n",
    "# can combine two single lines above to a single line with:\n",
    "# df_Y0 = le.fit_transform(df.Y0)\n",
    "print('That often Geometies occur:')\n",
    "print(np.bincount(df_Y0))\n",
    "print('Value which occurs most often')\n",
    "print(np.bincount(df_Y0).argmax())\n",
    "print('Transformation Table')\n",
    "print({i:k for i, k in zip(le.classes_, le.transform(le.classes_))})"
   ]
  },
  {
   "cell_type": "code",
   "execution_count": 3,
   "metadata": {},
   "outputs": [
    {
     "data": {
      "text/plain": [
       "0.4406719971826702"
      ]
     },
     "execution_count": 3,
     "metadata": {},
     "output_type": "execute_result"
    }
   ],
   "source": [
    "# Z2xZ4 Geometry occurs most often, namely 55058 times\n",
    "# Hence predict always Z2xZ4 Geometry,\n",
    "# to get most precise prediction without any further knowledge\n",
    "# Calculate now Accuracy \n",
    "# (Number of right predictions per number of tatal predictions)\n",
    "55058/df.shape[0]"
   ]
  },
  {
   "cell_type": "markdown",
   "metadata": {},
   "source": [
    "Therefore, without any knowledge of correspondences\n",
    "we can reach an Accuracy of around 44.1 percent"
   ]
  },
  {
   "cell_type": "code",
   "execution_count": null,
   "metadata": {},
   "outputs": [],
   "source": []
  }
 ],
 "metadata": {
  "kernelspec": {
   "display_name": "Python 3",
   "language": "python",
   "name": "python3"
  },
  "language_info": {
   "codemirror_mode": {
    "name": "ipython",
    "version": 3
   },
   "file_extension": ".py",
   "mimetype": "text/x-python",
   "name": "python",
   "nbconvert_exporter": "python",
   "pygments_lexer": "ipython3",
   "version": "3.7.3"
  }
 },
 "nbformat": 4,
 "nbformat_minor": 2
}
