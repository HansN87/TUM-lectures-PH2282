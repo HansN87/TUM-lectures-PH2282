{
 "cells": [
  {
   "cell_type": "markdown",
   "metadata": {},
   "source": [
    "# funktioniert nicht so toll"
   ]
  },
  {
   "cell_type": "markdown",
   "metadata": {},
   "source": [
    "# 1. Prepare Data"
   ]
  },
  {
   "cell_type": "code",
   "execution_count": 25,
   "metadata": {},
   "outputs": [
    {
     "name": "stdout",
     "output_type": "stream",
     "text": [
      "(124941, 14)\n"
     ]
    },
    {
     "data": {
      "text/html": [
       "<div>\n",
       "<style scoped>\n",
       "    .dataframe tbody tr th:only-of-type {\n",
       "        vertical-align: middle;\n",
       "    }\n",
       "\n",
       "    .dataframe tbody tr th {\n",
       "        vertical-align: top;\n",
       "    }\n",
       "\n",
       "    .dataframe thead th {\n",
       "        text-align: right;\n",
       "    }\n",
       "</style>\n",
       "<table border=\"1\" class=\"dataframe\">\n",
       "  <thead>\n",
       "    <tr style=\"text-align: right;\">\n",
       "      <th></th>\n",
       "      <th>Y0</th>\n",
       "      <th>Y1</th>\n",
       "      <th>Y2</th>\n",
       "      <th>Y3</th>\n",
       "      <th>Y4</th>\n",
       "      <th>Y5</th>\n",
       "      <th>Y6</th>\n",
       "      <th>Y7</th>\n",
       "      <th>Y8</th>\n",
       "      <th>Y9</th>\n",
       "      <th>Y10</th>\n",
       "      <th>Y11</th>\n",
       "      <th>Y12</th>\n",
       "      <th>Y13</th>\n",
       "    </tr>\n",
       "  </thead>\n",
       "  <tbody>\n",
       "    <tr>\n",
       "      <th>0</th>\n",
       "      <td>Z2xZ2</td>\n",
       "      <td>7</td>\n",
       "      <td>3</td>\n",
       "      <td>238</td>\n",
       "      <td>47</td>\n",
       "      <td>1</td>\n",
       "      <td>1</td>\n",
       "      <td>9</td>\n",
       "      <td>6</td>\n",
       "      <td>1</td>\n",
       "      <td>6</td>\n",
       "      <td>0</td>\n",
       "      <td>12</td>\n",
       "      <td>42</td>\n",
       "    </tr>\n",
       "    <tr>\n",
       "      <th>1</th>\n",
       "      <td>Z2xZ2</td>\n",
       "      <td>7</td>\n",
       "      <td>3</td>\n",
       "      <td>214</td>\n",
       "      <td>47</td>\n",
       "      <td>1</td>\n",
       "      <td>1</td>\n",
       "      <td>5</td>\n",
       "      <td>2</td>\n",
       "      <td>1</td>\n",
       "      <td>6</td>\n",
       "      <td>0</td>\n",
       "      <td>12</td>\n",
       "      <td>50</td>\n",
       "    </tr>\n",
       "    <tr>\n",
       "      <th>2</th>\n",
       "      <td>Z2xZ2</td>\n",
       "      <td>7</td>\n",
       "      <td>3</td>\n",
       "      <td>250</td>\n",
       "      <td>51</td>\n",
       "      <td>1</td>\n",
       "      <td>1</td>\n",
       "      <td>7</td>\n",
       "      <td>4</td>\n",
       "      <td>1</td>\n",
       "      <td>8</td>\n",
       "      <td>0</td>\n",
       "      <td>16</td>\n",
       "      <td>48</td>\n",
       "    </tr>\n",
       "    <tr>\n",
       "      <th>3</th>\n",
       "      <td>Z2xZ2</td>\n",
       "      <td>7</td>\n",
       "      <td>3</td>\n",
       "      <td>250</td>\n",
       "      <td>35</td>\n",
       "      <td>1</td>\n",
       "      <td>1</td>\n",
       "      <td>7</td>\n",
       "      <td>4</td>\n",
       "      <td>1</td>\n",
       "      <td>10</td>\n",
       "      <td>0</td>\n",
       "      <td>12</td>\n",
       "      <td>46</td>\n",
       "    </tr>\n",
       "    <tr>\n",
       "      <th>4</th>\n",
       "      <td>Z2xZ2</td>\n",
       "      <td>7</td>\n",
       "      <td>3</td>\n",
       "      <td>234</td>\n",
       "      <td>51</td>\n",
       "      <td>1</td>\n",
       "      <td>1</td>\n",
       "      <td>7</td>\n",
       "      <td>4</td>\n",
       "      <td>1</td>\n",
       "      <td>6</td>\n",
       "      <td>0</td>\n",
       "      <td>20</td>\n",
       "      <td>42</td>\n",
       "    </tr>\n",
       "  </tbody>\n",
       "</table>\n",
       "</div>"
      ],
      "text/plain": [
       "      Y0  Y1  Y2   Y3  Y4  Y5  Y6  Y7  Y8  Y9  Y10  Y11  Y12  Y13\n",
       "0  Z2xZ2   7   3  238  47   1   1   9   6   1    6    0   12   42\n",
       "1  Z2xZ2   7   3  214  47   1   1   5   2   1    6    0   12   50\n",
       "2  Z2xZ2   7   3  250  51   1   1   7   4   1    8    0   16   48\n",
       "3  Z2xZ2   7   3  250  35   1   1   7   4   1   10    0   12   46\n",
       "4  Z2xZ2   7   3  234  51   1   1   7   4   1    6    0   20   42"
      ]
     },
     "execution_count": 25,
     "metadata": {},
     "output_type": "execute_result"
    }
   ],
   "source": [
    "# load data\n",
    "import pandas as pd\n",
    "df = pd.read_csv(\"HeteroticOrbifoldMSSMs.csv\")\n",
    "df = df.drop(\"Unnamed: 0\", axis = 1)\n",
    "print(df.shape)\n",
    "df.head()"
   ]
  },
  {
   "cell_type": "code",
   "execution_count": 26,
   "metadata": {},
   "outputs": [
    {
     "name": "stdout",
     "output_type": "stream",
     "text": [
      "[ 0  1  2  3  4  5  6  7  8  9 10 11 12 13]\n",
      "[ 1  2  3  4  5  6  7  8  9 10 11 12 13 14]\n"
     ]
    }
   ],
   "source": [
    "# transform Y0 to continuous variable and save it as y\n",
    "from sklearn.preprocessing import LabelEncoder\n",
    "le = LabelEncoder()\n",
    "y = le.fit_transform(df.Y0)\n",
    "import numpy as np\n",
    "print(np.unique(y))\n",
    "y += 1\n",
    "print(np.unique(y))"
   ]
  },
  {
   "cell_type": "code",
   "execution_count": 27,
   "metadata": {},
   "outputs": [
    {
     "name": "stdout",
     "output_type": "stream",
     "text": [
      "(124941, 13)\n"
     ]
    },
    {
     "data": {
      "text/html": [
       "<div>\n",
       "<style scoped>\n",
       "    .dataframe tbody tr th:only-of-type {\n",
       "        vertical-align: middle;\n",
       "    }\n",
       "\n",
       "    .dataframe tbody tr th {\n",
       "        vertical-align: top;\n",
       "    }\n",
       "\n",
       "    .dataframe thead th {\n",
       "        text-align: right;\n",
       "    }\n",
       "</style>\n",
       "<table border=\"1\" class=\"dataframe\">\n",
       "  <thead>\n",
       "    <tr style=\"text-align: right;\">\n",
       "      <th></th>\n",
       "      <th>Y1</th>\n",
       "      <th>Y2</th>\n",
       "      <th>Y3</th>\n",
       "      <th>Y4</th>\n",
       "      <th>Y5</th>\n",
       "      <th>Y6</th>\n",
       "      <th>Y7</th>\n",
       "      <th>Y8</th>\n",
       "      <th>Y9</th>\n",
       "      <th>Y10</th>\n",
       "      <th>Y11</th>\n",
       "      <th>Y12</th>\n",
       "      <th>Y13</th>\n",
       "    </tr>\n",
       "  </thead>\n",
       "  <tbody>\n",
       "    <tr>\n",
       "      <th>0</th>\n",
       "      <td>7</td>\n",
       "      <td>3</td>\n",
       "      <td>238</td>\n",
       "      <td>47</td>\n",
       "      <td>1</td>\n",
       "      <td>1</td>\n",
       "      <td>9</td>\n",
       "      <td>6</td>\n",
       "      <td>1</td>\n",
       "      <td>6</td>\n",
       "      <td>0</td>\n",
       "      <td>12</td>\n",
       "      <td>42</td>\n",
       "    </tr>\n",
       "    <tr>\n",
       "      <th>1</th>\n",
       "      <td>7</td>\n",
       "      <td>3</td>\n",
       "      <td>214</td>\n",
       "      <td>47</td>\n",
       "      <td>1</td>\n",
       "      <td>1</td>\n",
       "      <td>5</td>\n",
       "      <td>2</td>\n",
       "      <td>1</td>\n",
       "      <td>6</td>\n",
       "      <td>0</td>\n",
       "      <td>12</td>\n",
       "      <td>50</td>\n",
       "    </tr>\n",
       "    <tr>\n",
       "      <th>2</th>\n",
       "      <td>7</td>\n",
       "      <td>3</td>\n",
       "      <td>250</td>\n",
       "      <td>51</td>\n",
       "      <td>1</td>\n",
       "      <td>1</td>\n",
       "      <td>7</td>\n",
       "      <td>4</td>\n",
       "      <td>1</td>\n",
       "      <td>8</td>\n",
       "      <td>0</td>\n",
       "      <td>16</td>\n",
       "      <td>48</td>\n",
       "    </tr>\n",
       "    <tr>\n",
       "      <th>3</th>\n",
       "      <td>7</td>\n",
       "      <td>3</td>\n",
       "      <td>250</td>\n",
       "      <td>35</td>\n",
       "      <td>1</td>\n",
       "      <td>1</td>\n",
       "      <td>7</td>\n",
       "      <td>4</td>\n",
       "      <td>1</td>\n",
       "      <td>10</td>\n",
       "      <td>0</td>\n",
       "      <td>12</td>\n",
       "      <td>46</td>\n",
       "    </tr>\n",
       "    <tr>\n",
       "      <th>4</th>\n",
       "      <td>7</td>\n",
       "      <td>3</td>\n",
       "      <td>234</td>\n",
       "      <td>51</td>\n",
       "      <td>1</td>\n",
       "      <td>1</td>\n",
       "      <td>7</td>\n",
       "      <td>4</td>\n",
       "      <td>1</td>\n",
       "      <td>6</td>\n",
       "      <td>0</td>\n",
       "      <td>20</td>\n",
       "      <td>42</td>\n",
       "    </tr>\n",
       "  </tbody>\n",
       "</table>\n",
       "</div>"
      ],
      "text/plain": [
       "   Y1  Y2   Y3  Y4  Y5  Y6  Y7  Y8  Y9  Y10  Y11  Y12  Y13\n",
       "0   7   3  238  47   1   1   9   6   1    6    0   12   42\n",
       "1   7   3  214  47   1   1   5   2   1    6    0   12   50\n",
       "2   7   3  250  51   1   1   7   4   1    8    0   16   48\n",
       "3   7   3  250  35   1   1   7   4   1   10    0   12   46\n",
       "4   7   3  234  51   1   1   7   4   1    6    0   20   42"
      ]
     },
     "execution_count": 27,
     "metadata": {},
     "output_type": "execute_result"
    }
   ],
   "source": [
    "# save Y1, Y2, ..., Y13 as X\n",
    "X = df.iloc[ : , 1: ]\n",
    "print(X.shape)\n",
    "X.head()"
   ]
  },
  {
   "cell_type": "code",
   "execution_count": 28,
   "metadata": {},
   "outputs": [],
   "source": [
    "# split in training and test data\n",
    "from sklearn.model_selection import train_test_split\n",
    "X_train, X_test, y_train, y_test = train_test_split(X, y, test_size = 0.2, random_state = 1)"
   ]
  },
  {
   "cell_type": "markdown",
   "metadata": {},
   "source": [
    "# 2. Train and Adjust Hyper Parameters"
   ]
  },
  {
   "cell_type": "code",
   "execution_count": 29,
   "metadata": {},
   "outputs": [],
   "source": [
    "# split trainings set in tr and val set\n",
    "X_tr, X_val, y_tr, y_val = train_test_split(X_train, y_train, test_size = 0.2, random_state = 1)"
   ]
  },
  {
   "cell_type": "code",
   "execution_count": 46,
   "metadata": {},
   "outputs": [
    {
     "data": {
      "text/plain": [
       "XGBRFClassifier(base_score=0.5, colsample_bylevel=1, colsample_bynode=0.8,\n",
       "                colsample_bytree=1, gamma=0, learning_rate=1, max_delta_step=0,\n",
       "                max_depth=300, min_child_weight=1, missing=None,\n",
       "                n_estimators=1000, n_jobs=11, nthread=None,\n",
       "                objective='multi:softprob', random_state=87, reg_alpha=0,\n",
       "                reg_lambda=1, scale_pos_weight=1, seed=None, silent=None,\n",
       "                subsample=1, verbosity=1)"
      ]
     },
     "execution_count": 46,
     "metadata": {},
     "output_type": "execute_result"
    }
   ],
   "source": [
    "# train xgboost on tr set\n",
    "from xgboost import XGBRFClassifier\n",
    "boorf = XGBRFClassifier(max_depth = 300, n_estimators = 1000, subsample = 1,\n",
    "                        objective = 'multi:softmax', n_jobs = 11, random_state = 87)\n",
    "boorf.fit(X_tr, y_tr)"
   ]
  },
  {
   "cell_type": "code",
   "execution_count": 47,
   "metadata": {},
   "outputs": [
    {
     "name": "stdout",
     "output_type": "stream",
     "text": [
      "[[  84    0    1   54    0    1    2    0   15    0    4    0    1    1]\n",
      " [   0   15    3   29    0    0    0    0    1    0    3    0    0   10]\n",
      " [   1    1  127  123    0    0    0    0    3    0    0    0    0    0]\n",
      " [   6    2   17 7770    1    7   30    0  888    0    4    9    5    6]\n",
      " [   0    3    0   73    9    0    2    0   63    0    2    0    0    1]\n",
      " [   1    0    0   20    0  462    4    0   40    0    0    0    0    1]\n",
      " [   1    0    0  128    0   13  319    0  352    0    1    1    1    0]\n",
      " [   0    1    0    9    0    1    0   12    1    0    0    0    0    0]\n",
      " [   4    0    3 1004    1   13  103    0 6648    0    2   22    2    9]\n",
      " [   0    0    0    3    0    0    0    0    1    1    0    0    0    0]\n",
      " [   3    0    1  145    0    1    4    0   17    0   70    0    3    3]\n",
      " [   0    0    0    7    0    1    1    0  527    0    0   79    0    0]\n",
      " [   1    0    0   62    0    1    0    0   11    0    2    0   64    2]\n",
      " [   1    2    2  122    1    2    1    0   22    0    9    0    1  262]]\n",
      "0.7964584062828273\n"
     ]
    }
   ],
   "source": [
    "# test boo on val set\n",
    "# compute confusion matrix and accuracy\n",
    "pred = boorf.predict(X_val)\n",
    "np.set_printoptions(linewidth=200)            # for nicer print\n",
    "from sklearn.metrics import confusion_matrix\n",
    "print(confusion_matrix(y_val, pred))\n",
    "print(sum(y_val == pred)/len(y_val))"
   ]
  },
  {
   "cell_type": "code",
   "execution_count": 38,
   "metadata": {},
   "outputs": [
    {
     "name": "stdout",
     "output_type": "stream",
     "text": [
      "0.7954079335701065\n"
     ]
    }
   ],
   "source": [
    "# best parameters:\n",
    "# max_depth = 300\n",
    "# subsample = 1\n",
    "print(sum(y_val == pred)/len(y_val))"
   ]
  },
  {
   "cell_type": "markdown",
   "metadata": {},
   "source": [
    "# 3. Train Model on Hole Training Set and Test on Test Set"
   ]
  },
  {
   "cell_type": "code",
   "execution_count": null,
   "metadata": {},
   "outputs": [],
   "source": []
  },
  {
   "cell_type": "code",
   "execution_count": null,
   "metadata": {},
   "outputs": [],
   "source": []
  },
  {
   "cell_type": "code",
   "execution_count": null,
   "metadata": {},
   "outputs": [],
   "source": []
  },
  {
   "cell_type": "code",
   "execution_count": null,
   "metadata": {},
   "outputs": [],
   "source": []
  }
 ],
 "metadata": {
  "kernelspec": {
   "display_name": "Python 3",
   "language": "python",
   "name": "python3"
  },
  "language_info": {
   "codemirror_mode": {
    "name": "ipython",
    "version": 3
   },
   "file_extension": ".py",
   "mimetype": "text/x-python",
   "name": "python",
   "nbconvert_exporter": "python",
   "pygments_lexer": "ipython3",
   "version": "3.7.3"
  }
 },
 "nbformat": 4,
 "nbformat_minor": 2
}
