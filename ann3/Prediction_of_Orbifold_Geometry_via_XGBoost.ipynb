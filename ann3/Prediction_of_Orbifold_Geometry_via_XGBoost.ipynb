{
 "cells": [
  {
   "cell_type": "markdown",
   "metadata": {},
   "source": [
    "# 1. Prepare Data"
   ]
  },
  {
   "cell_type": "code",
   "execution_count": 36,
   "metadata": {},
   "outputs": [
    {
     "name": "stdout",
     "output_type": "stream",
     "text": [
      "(124941, 14)\n"
     ]
    },
    {
     "data": {
      "text/html": [
       "<div>\n",
       "<style scoped>\n",
       "    .dataframe tbody tr th:only-of-type {\n",
       "        vertical-align: middle;\n",
       "    }\n",
       "\n",
       "    .dataframe tbody tr th {\n",
       "        vertical-align: top;\n",
       "    }\n",
       "\n",
       "    .dataframe thead th {\n",
       "        text-align: right;\n",
       "    }\n",
       "</style>\n",
       "<table border=\"1\" class=\"dataframe\">\n",
       "  <thead>\n",
       "    <tr style=\"text-align: right;\">\n",
       "      <th></th>\n",
       "      <th>Y0</th>\n",
       "      <th>Y1</th>\n",
       "      <th>Y2</th>\n",
       "      <th>Y3</th>\n",
       "      <th>Y4</th>\n",
       "      <th>Y5</th>\n",
       "      <th>Y6</th>\n",
       "      <th>Y7</th>\n",
       "      <th>Y8</th>\n",
       "      <th>Y9</th>\n",
       "      <th>Y10</th>\n",
       "      <th>Y11</th>\n",
       "      <th>Y12</th>\n",
       "      <th>Y13</th>\n",
       "    </tr>\n",
       "  </thead>\n",
       "  <tbody>\n",
       "    <tr>\n",
       "      <th>0</th>\n",
       "      <td>Z2xZ2</td>\n",
       "      <td>7</td>\n",
       "      <td>3</td>\n",
       "      <td>238</td>\n",
       "      <td>47</td>\n",
       "      <td>1</td>\n",
       "      <td>1</td>\n",
       "      <td>9</td>\n",
       "      <td>6</td>\n",
       "      <td>1</td>\n",
       "      <td>6</td>\n",
       "      <td>0</td>\n",
       "      <td>12</td>\n",
       "      <td>42</td>\n",
       "    </tr>\n",
       "    <tr>\n",
       "      <th>1</th>\n",
       "      <td>Z2xZ2</td>\n",
       "      <td>7</td>\n",
       "      <td>3</td>\n",
       "      <td>214</td>\n",
       "      <td>47</td>\n",
       "      <td>1</td>\n",
       "      <td>1</td>\n",
       "      <td>5</td>\n",
       "      <td>2</td>\n",
       "      <td>1</td>\n",
       "      <td>6</td>\n",
       "      <td>0</td>\n",
       "      <td>12</td>\n",
       "      <td>50</td>\n",
       "    </tr>\n",
       "    <tr>\n",
       "      <th>2</th>\n",
       "      <td>Z2xZ2</td>\n",
       "      <td>7</td>\n",
       "      <td>3</td>\n",
       "      <td>250</td>\n",
       "      <td>51</td>\n",
       "      <td>1</td>\n",
       "      <td>1</td>\n",
       "      <td>7</td>\n",
       "      <td>4</td>\n",
       "      <td>1</td>\n",
       "      <td>8</td>\n",
       "      <td>0</td>\n",
       "      <td>16</td>\n",
       "      <td>48</td>\n",
       "    </tr>\n",
       "    <tr>\n",
       "      <th>3</th>\n",
       "      <td>Z2xZ2</td>\n",
       "      <td>7</td>\n",
       "      <td>3</td>\n",
       "      <td>250</td>\n",
       "      <td>35</td>\n",
       "      <td>1</td>\n",
       "      <td>1</td>\n",
       "      <td>7</td>\n",
       "      <td>4</td>\n",
       "      <td>1</td>\n",
       "      <td>10</td>\n",
       "      <td>0</td>\n",
       "      <td>12</td>\n",
       "      <td>46</td>\n",
       "    </tr>\n",
       "    <tr>\n",
       "      <th>4</th>\n",
       "      <td>Z2xZ2</td>\n",
       "      <td>7</td>\n",
       "      <td>3</td>\n",
       "      <td>234</td>\n",
       "      <td>51</td>\n",
       "      <td>1</td>\n",
       "      <td>1</td>\n",
       "      <td>7</td>\n",
       "      <td>4</td>\n",
       "      <td>1</td>\n",
       "      <td>6</td>\n",
       "      <td>0</td>\n",
       "      <td>20</td>\n",
       "      <td>42</td>\n",
       "    </tr>\n",
       "  </tbody>\n",
       "</table>\n",
       "</div>"
      ],
      "text/plain": [
       "      Y0  Y1  Y2   Y3  Y4  Y5  Y6  Y7  Y8  Y9  Y10  Y11  Y12  Y13\n",
       "0  Z2xZ2   7   3  238  47   1   1   9   6   1    6    0   12   42\n",
       "1  Z2xZ2   7   3  214  47   1   1   5   2   1    6    0   12   50\n",
       "2  Z2xZ2   7   3  250  51   1   1   7   4   1    8    0   16   48\n",
       "3  Z2xZ2   7   3  250  35   1   1   7   4   1   10    0   12   46\n",
       "4  Z2xZ2   7   3  234  51   1   1   7   4   1    6    0   20   42"
      ]
     },
     "execution_count": 36,
     "metadata": {},
     "output_type": "execute_result"
    }
   ],
   "source": [
    "# load data\n",
    "import pandas as pd\n",
    "df = pd.read_csv(\"HeteroticOrbifoldMSSMs.csv\")\n",
    "df = df.drop(\"Unnamed: 0\", axis = 1)\n",
    "print(df.shape)\n",
    "df.head()"
   ]
  },
  {
   "cell_type": "code",
   "execution_count": 26,
   "metadata": {
    "scrolled": true
   },
   "outputs": [
    {
     "name": "stdout",
     "output_type": "stream",
     "text": [
      "[ 0  1  2  3  4  5  6  7  8  9 10 11 12 13]\n"
     ]
    }
   ],
   "source": [
    "# transform Y0 to continuous variable and save it as y\n",
    "from sklearn.preprocessing import LabelEncoder\n",
    "le = LabelEncoder()\n",
    "y = le.fit_transform(df.Y0)\n",
    "import numpy as np\n",
    "print(np.unique(y))"
   ]
  },
  {
   "cell_type": "code",
   "execution_count": 27,
   "metadata": {},
   "outputs": [
    {
     "name": "stdout",
     "output_type": "stream",
     "text": [
      "(124941, 13)\n"
     ]
    },
    {
     "data": {
      "text/html": [
       "<div>\n",
       "<style scoped>\n",
       "    .dataframe tbody tr th:only-of-type {\n",
       "        vertical-align: middle;\n",
       "    }\n",
       "\n",
       "    .dataframe tbody tr th {\n",
       "        vertical-align: top;\n",
       "    }\n",
       "\n",
       "    .dataframe thead th {\n",
       "        text-align: right;\n",
       "    }\n",
       "</style>\n",
       "<table border=\"1\" class=\"dataframe\">\n",
       "  <thead>\n",
       "    <tr style=\"text-align: right;\">\n",
       "      <th></th>\n",
       "      <th>Y1</th>\n",
       "      <th>Y2</th>\n",
       "      <th>Y3</th>\n",
       "      <th>Y4</th>\n",
       "      <th>Y5</th>\n",
       "      <th>Y6</th>\n",
       "      <th>Y7</th>\n",
       "      <th>Y8</th>\n",
       "      <th>Y9</th>\n",
       "      <th>Y10</th>\n",
       "      <th>Y11</th>\n",
       "      <th>Y12</th>\n",
       "      <th>Y13</th>\n",
       "    </tr>\n",
       "  </thead>\n",
       "  <tbody>\n",
       "    <tr>\n",
       "      <th>0</th>\n",
       "      <td>7</td>\n",
       "      <td>3</td>\n",
       "      <td>238</td>\n",
       "      <td>47</td>\n",
       "      <td>1</td>\n",
       "      <td>1</td>\n",
       "      <td>9</td>\n",
       "      <td>6</td>\n",
       "      <td>1</td>\n",
       "      <td>6</td>\n",
       "      <td>0</td>\n",
       "      <td>12</td>\n",
       "      <td>42</td>\n",
       "    </tr>\n",
       "    <tr>\n",
       "      <th>1</th>\n",
       "      <td>7</td>\n",
       "      <td>3</td>\n",
       "      <td>214</td>\n",
       "      <td>47</td>\n",
       "      <td>1</td>\n",
       "      <td>1</td>\n",
       "      <td>5</td>\n",
       "      <td>2</td>\n",
       "      <td>1</td>\n",
       "      <td>6</td>\n",
       "      <td>0</td>\n",
       "      <td>12</td>\n",
       "      <td>50</td>\n",
       "    </tr>\n",
       "    <tr>\n",
       "      <th>2</th>\n",
       "      <td>7</td>\n",
       "      <td>3</td>\n",
       "      <td>250</td>\n",
       "      <td>51</td>\n",
       "      <td>1</td>\n",
       "      <td>1</td>\n",
       "      <td>7</td>\n",
       "      <td>4</td>\n",
       "      <td>1</td>\n",
       "      <td>8</td>\n",
       "      <td>0</td>\n",
       "      <td>16</td>\n",
       "      <td>48</td>\n",
       "    </tr>\n",
       "    <tr>\n",
       "      <th>3</th>\n",
       "      <td>7</td>\n",
       "      <td>3</td>\n",
       "      <td>250</td>\n",
       "      <td>35</td>\n",
       "      <td>1</td>\n",
       "      <td>1</td>\n",
       "      <td>7</td>\n",
       "      <td>4</td>\n",
       "      <td>1</td>\n",
       "      <td>10</td>\n",
       "      <td>0</td>\n",
       "      <td>12</td>\n",
       "      <td>46</td>\n",
       "    </tr>\n",
       "    <tr>\n",
       "      <th>4</th>\n",
       "      <td>7</td>\n",
       "      <td>3</td>\n",
       "      <td>234</td>\n",
       "      <td>51</td>\n",
       "      <td>1</td>\n",
       "      <td>1</td>\n",
       "      <td>7</td>\n",
       "      <td>4</td>\n",
       "      <td>1</td>\n",
       "      <td>6</td>\n",
       "      <td>0</td>\n",
       "      <td>20</td>\n",
       "      <td>42</td>\n",
       "    </tr>\n",
       "  </tbody>\n",
       "</table>\n",
       "</div>"
      ],
      "text/plain": [
       "   Y1  Y2   Y3  Y4  Y5  Y6  Y7  Y8  Y9  Y10  Y11  Y12  Y13\n",
       "0   7   3  238  47   1   1   9   6   1    6    0   12   42\n",
       "1   7   3  214  47   1   1   5   2   1    6    0   12   50\n",
       "2   7   3  250  51   1   1   7   4   1    8    0   16   48\n",
       "3   7   3  250  35   1   1   7   4   1   10    0   12   46\n",
       "4   7   3  234  51   1   1   7   4   1    6    0   20   42"
      ]
     },
     "execution_count": 27,
     "metadata": {},
     "output_type": "execute_result"
    }
   ],
   "source": [
    "# save Y1, Y2, ..., Y13 as X\n",
    "X = df.iloc[ : , 1: ]\n",
    "print(X.shape)\n",
    "X.head()"
   ]
  },
  {
   "cell_type": "code",
   "execution_count": 28,
   "metadata": {},
   "outputs": [],
   "source": [
    "# split in training and test data\n",
    "from sklearn.model_selection import train_test_split\n",
    "X_train, X_test, y_train, y_test = train_test_split(X, y, test_size = 0.2, random_state = 1)"
   ]
  },
  {
   "cell_type": "markdown",
   "metadata": {},
   "source": [
    "# 2. Train and Adjust Hyper Parameters"
   ]
  },
  {
   "cell_type": "code",
   "execution_count": 29,
   "metadata": {},
   "outputs": [],
   "source": [
    "# split trainings set in tr and val set\n",
    "X_tr, X_val, y_tr, y_val = train_test_split(X_train, y_train, test_size = 0.2, random_state = 1)"
   ]
  },
  {
   "cell_type": "code",
   "execution_count": 30,
   "metadata": {},
   "outputs": [
    {
     "data": {
      "text/plain": [
       "XGBClassifier(base_score=0.5, booster='gbtree', colsample_bylevel=1,\n",
       "              colsample_bynode=1, colsample_bytree=1, gamma=0,\n",
       "              learning_rate=0.01, max_delta_step=0, max_depth=10,\n",
       "              min_child_weight=1, missing=None, n_estimators=50, n_jobs=11,\n",
       "              nthread=None, objective='multi:softprob', random_state=93,\n",
       "              reg_alpha=0, reg_lambda=0, scale_pos_weight=1, seed=None,\n",
       "              silent=None, subsample=1, verbosity=1)"
      ]
     },
     "execution_count": 30,
     "metadata": {},
     "output_type": "execute_result"
    }
   ],
   "source": [
    "# train xgboost on tr set\n",
    "from xgboost import XGBClassifier\n",
    "boo = XGBClassifier(max_depth = 10, learning_rate = 0.01, n_estimators = 50, objective = 'multi:softmax',\n",
    "                    reg_lambda = 0, reg_alpha = 0, subsample = 1, \n",
    "                    n_jobs = 11, random_state = 93)\n",
    "boo.fit(X_tr, y_tr)"
   ]
  },
  {
   "cell_type": "code",
   "execution_count": 31,
   "metadata": {},
   "outputs": [
    {
     "name": "stdout",
     "output_type": "stream",
     "text": [
      "[[  65    0    1    6    0    0    1    0    2    0    5    0    1    0]\n",
      " [   0   14    2    2    2    0    0    1    0    0    0    0    0    1]\n",
      " [   0    0   75   15    0    0    0    0    3    0    1    0    0    1]\n",
      " [  82   37  173 7809   75   27  163    7 1351    4  167   10   76  151]\n",
      " [   0    0    0    3   18    0    0    0    1    0    2    0    0    0]\n",
      " [   0    0    0    7    0  456   10    0   13    0    1    1    0    0]\n",
      " [   1    0    0   31    1    6  318    0  121    0    2    1    0    1]\n",
      " [   0    0    0    0    0    0    0   13    0    0    0    0    1    0]\n",
      " [   7    0    4  843   57   38  319    2 6275    0    5  535    3   18]\n",
      " [   0    0    0    0    0    0    0    0    1    1    0    0    0    0]\n",
      " [   5    1    0    6    0    0    1    0    5    0   53    0    1    3]\n",
      " [   0    0    0    6    0    1    2    0   18    0    0   68    0    0]\n",
      " [   2    0    0    7    0    0    1    1    5    0    3    0   59    1]\n",
      " [   1    9    0   10    0    0    1    0   16    0    8    0    2  249]]\n",
      "0.7739982992346556\n"
     ]
    }
   ],
   "source": [
    "# test boo on val set\n",
    "# compute confusion matrix and accuracy\n",
    "pred = boo.predict(X_val)\n",
    "np.set_printoptions(linewidth=200)            # for nicer print\n",
    "from sklearn.metrics import confusion_matrix\n",
    "print(confusion_matrix(pred, y_val))\n",
    "print(sum(y_val == pred)/len(y_val))"
   ]
  },
  {
   "cell_type": "code",
   "execution_count": 8,
   "metadata": {},
   "outputs": [
    {
     "name": "stdout",
     "output_type": "stream",
     "text": [
      "0.9035566004702116\n"
     ]
    }
   ],
   "source": [
    "# best parameters:\n",
    "# n_estimators = 1000\n",
    "# max_depth = 10\n",
    "# learning rate = 0.1\n",
    "print(sum(y_val == pred)/len(y_val))"
   ]
  },
  {
   "cell_type": "code",
   "execution_count": 32,
   "metadata": {},
   "outputs": [
    {
     "name": "stdout",
     "output_type": "stream",
     "text": [
      "[8 3 8 3 3 8 8 8 8 3]\n",
      "[ 8  3  8  8  8  8  8 11  8  3]\n",
      "[ True  True  True False False  True  True False  True  True]\n"
     ]
    }
   ],
   "source": [
    "# print first few predictions and true values\n",
    "print(pred[0:10])\n",
    "print(y_val[0:10])\n",
    "print((pred == y_val)[0:10])"
   ]
  },
  {
   "cell_type": "markdown",
   "metadata": {},
   "source": [
    "Prediction gets better if we use more trees, which means increase n_estimators. But than it is more timeconsuming"
   ]
  },
  {
   "cell_type": "raw",
   "metadata": {},
   "source": [
    "# train xgboost on tr set\n",
    "from xgboost import XGBClassifier\n",
    "boo = XGBClassifier(max_depth = 10, learning_rate = 0.01, n_estimators = 1000, objective = 'multi:softmax',\n",
    "                    reg_lambda = 0, reg_alpha = 0, subsample = 1, \n",
    "                    n_jobs = 11, random_state = 93)\n",
    "boo.fit(X_tr, y_tr)"
   ]
  },
  {
   "cell_type": "markdown",
   "metadata": {},
   "source": [
    "# 3. Train on Full Training Set and Test on Test Set"
   ]
  },
  {
   "cell_type": "code",
   "execution_count": 33,
   "metadata": {},
   "outputs": [
    {
     "data": {
      "text/plain": [
       "XGBClassifier(base_score=0.5, booster='gbtree', colsample_bylevel=1,\n",
       "              colsample_bynode=1, colsample_bytree=1, gamma=0,\n",
       "              learning_rate=0.01, max_delta_step=0, max_depth=10,\n",
       "              min_child_weight=1, missing=None, n_estimators=50, n_jobs=11,\n",
       "              nthread=None, objective='multi:softprob', random_state=93,\n",
       "              reg_alpha=0, reg_lambda=0, scale_pos_weight=1, seed=None,\n",
       "              silent=None, subsample=1, verbosity=1)"
      ]
     },
     "execution_count": 33,
     "metadata": {},
     "output_type": "execute_result"
    }
   ],
   "source": [
    "# train xgboost on tr set\n",
    "from xgboost import XGBClassifier\n",
    "boo = XGBClassifier(max_depth = 10, learning_rate = 0.01, n_estimators = 50, objective = 'multi:softmax',\n",
    "                    reg_lambda = 0, reg_alpha = 0, subsample = 1, \n",
    "                    n_jobs = 11, random_state = 93)\n",
    "boo.fit(X_train, y_train)"
   ]
  },
  {
   "cell_type": "code",
   "execution_count": 34,
   "metadata": {},
   "outputs": [
    {
     "name": "stdout",
     "output_type": "stream",
     "text": [
      "[[  81    1    0  106    0    0    1    0   12    0    9    0    6    3]\n",
      " [   0   25    0   49    1    0    0    0    0    0    2    0    0    5]\n",
      " [   0    0  123  202    0    0    0    0    9    0    1    0    0    0]\n",
      " [  10    0   11 9877    3   13   33    0 1057    0    6   10   14   10]\n",
      " [   0    0    1  128   17    0    2    0   57    0    3    1    0    1]\n",
      " [   0    0    0   37    0  563    3    1   43    0    1    1    0    1]\n",
      " [   0    0    0  199    2   11  398    0  412    0    1    2    0    2]\n",
      " [   0    0    0   15    0    0    1   20    1    0    0    0    6    0]\n",
      " [   3    0    2 1670    2    7  123    0 7887    0    2   24    7    9]\n",
      " [   0    0    0    4    0    0    1    0    0    6    0    0    0    1]\n",
      " [   5    0    1  157    2    1    1    0   11    0   68    0    6    7]\n",
      " [   0    0    0   23    0    0    1    0  585    0    0   90    0    0]\n",
      " [   0    1    0  101    0    0    0    0    5    0    2    0   83    1]\n",
      " [   2    4    1  181    4    0    1    0   12    0    8    0    4  263]]\n",
      "Accuracy of our Model: 0.7803833686822201\n"
     ]
    }
   ],
   "source": [
    "# test boo on test set\n",
    "# compute confusion matrix and accuracy\n",
    "pred = boo.predict(X_test)\n",
    "\n",
    "print(confusion_matrix(y_test, pred))\n",
    "print('Accuracy of our Model:', sum(y_test == pred)/len(y_test))"
   ]
  },
  {
   "cell_type": "markdown",
   "metadata": {},
   "source": [
    "## Feature Importance for Boosting"
   ]
  },
  {
   "cell_type": "code",
   "execution_count": 35,
   "metadata": {},
   "outputs": [
    {
     "data": {
      "image/png": "[encoded data removed]",
      "text/plain": [
       "<Figure size 432x288 with 1 Axes>"
      ]
     },
     "metadata": {
      "needs_background": "light"
     },
     "output_type": "display_data"
    }
   ],
   "source": [
    "import matplotlib.pyplot as plt\n",
    "from xgboost import plot_importance\n",
    "plot_importance(boo)\n",
    "plt.show()"
   ]
  },
  {
   "cell_type": "code",
   "execution_count": null,
   "metadata": {},
   "outputs": [],
   "source": []
  }
 ],
 "metadata": {
  "kernelspec": {
   "display_name": "Python 3",
   "language": "python",
   "name": "python3"
  },
  "language_info": {
   "codemirror_mode": {
    "name": "ipython",
    "version": 3
   },
   "file_extension": ".py",
   "mimetype": "text/x-python",
   "name": "python",
   "nbconvert_exporter": "python",
   "pygments_lexer": "ipython3",
   "version": "3.7.3"
  }
 },
 "nbformat": 4,
 "nbformat_minor": 2
}
