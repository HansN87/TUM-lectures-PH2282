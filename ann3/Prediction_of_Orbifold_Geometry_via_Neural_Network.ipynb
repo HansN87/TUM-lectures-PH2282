{
 "cells": [
  {
   "cell_type": "markdown",
   "metadata": {},
   "source": [
    "# 1. Preparing Data"
   ]
  },
  {
   "cell_type": "markdown",
   "metadata": {},
   "source": [
    "## 1.1 Load and Check Data"
   ]
  },
  {
   "cell_type": "code",
   "execution_count": 19,
   "metadata": {},
   "outputs": [],
   "source": [
    "# import data\n",
    "import pandas as pd\n",
    "df = pd.read_csv(\"HeteroticOrbifoldMSSMs.csv\")"
   ]
  },
  {
   "cell_type": "code",
   "execution_count": 6,
   "metadata": {},
   "outputs": [
    {
     "name": "stdout",
     "output_type": "stream",
     "text": [
      "(124941, 15)\n"
     ]
    },
    {
     "data": {
      "text/html": [
       "<div>\n",
       "<style scoped>\n",
       "    .dataframe tbody tr th:only-of-type {\n",
       "        vertical-align: middle;\n",
       "    }\n",
       "\n",
       "    .dataframe tbody tr th {\n",
       "        vertical-align: top;\n",
       "    }\n",
       "\n",
       "    .dataframe thead th {\n",
       "        text-align: right;\n",
       "    }\n",
       "</style>\n",
       "<table border=\"1\" class=\"dataframe\">\n",
       "  <thead>\n",
       "    <tr style=\"text-align: right;\">\n",
       "      <th></th>\n",
       "      <th>Unnamed: 0</th>\n",
       "      <th>Y0</th>\n",
       "      <th>Y1</th>\n",
       "      <th>Y2</th>\n",
       "      <th>Y3</th>\n",
       "      <th>Y4</th>\n",
       "      <th>Y5</th>\n",
       "      <th>Y6</th>\n",
       "      <th>Y7</th>\n",
       "      <th>Y8</th>\n",
       "      <th>Y9</th>\n",
       "      <th>Y10</th>\n",
       "      <th>Y11</th>\n",
       "      <th>Y12</th>\n",
       "      <th>Y13</th>\n",
       "    </tr>\n",
       "  </thead>\n",
       "  <tbody>\n",
       "    <tr>\n",
       "      <th>0</th>\n",
       "      <td>0</td>\n",
       "      <td>Z2xZ2</td>\n",
       "      <td>7</td>\n",
       "      <td>3</td>\n",
       "      <td>238</td>\n",
       "      <td>47</td>\n",
       "      <td>1</td>\n",
       "      <td>1</td>\n",
       "      <td>9</td>\n",
       "      <td>6</td>\n",
       "      <td>1</td>\n",
       "      <td>6</td>\n",
       "      <td>0</td>\n",
       "      <td>12</td>\n",
       "      <td>42</td>\n",
       "    </tr>\n",
       "    <tr>\n",
       "      <th>1</th>\n",
       "      <td>1</td>\n",
       "      <td>Z2xZ2</td>\n",
       "      <td>7</td>\n",
       "      <td>3</td>\n",
       "      <td>214</td>\n",
       "      <td>47</td>\n",
       "      <td>1</td>\n",
       "      <td>1</td>\n",
       "      <td>5</td>\n",
       "      <td>2</td>\n",
       "      <td>1</td>\n",
       "      <td>6</td>\n",
       "      <td>0</td>\n",
       "      <td>12</td>\n",
       "      <td>50</td>\n",
       "    </tr>\n",
       "    <tr>\n",
       "      <th>2</th>\n",
       "      <td>2</td>\n",
       "      <td>Z2xZ2</td>\n",
       "      <td>7</td>\n",
       "      <td>3</td>\n",
       "      <td>250</td>\n",
       "      <td>51</td>\n",
       "      <td>1</td>\n",
       "      <td>1</td>\n",
       "      <td>7</td>\n",
       "      <td>4</td>\n",
       "      <td>1</td>\n",
       "      <td>8</td>\n",
       "      <td>0</td>\n",
       "      <td>16</td>\n",
       "      <td>48</td>\n",
       "    </tr>\n",
       "    <tr>\n",
       "      <th>3</th>\n",
       "      <td>3</td>\n",
       "      <td>Z2xZ2</td>\n",
       "      <td>7</td>\n",
       "      <td>3</td>\n",
       "      <td>250</td>\n",
       "      <td>35</td>\n",
       "      <td>1</td>\n",
       "      <td>1</td>\n",
       "      <td>7</td>\n",
       "      <td>4</td>\n",
       "      <td>1</td>\n",
       "      <td>10</td>\n",
       "      <td>0</td>\n",
       "      <td>12</td>\n",
       "      <td>46</td>\n",
       "    </tr>\n",
       "    <tr>\n",
       "      <th>4</th>\n",
       "      <td>4</td>\n",
       "      <td>Z2xZ2</td>\n",
       "      <td>7</td>\n",
       "      <td>3</td>\n",
       "      <td>234</td>\n",
       "      <td>51</td>\n",
       "      <td>1</td>\n",
       "      <td>1</td>\n",
       "      <td>7</td>\n",
       "      <td>4</td>\n",
       "      <td>1</td>\n",
       "      <td>6</td>\n",
       "      <td>0</td>\n",
       "      <td>20</td>\n",
       "      <td>42</td>\n",
       "    </tr>\n",
       "  </tbody>\n",
       "</table>\n",
       "</div>"
      ],
      "text/plain": [
       "   Unnamed: 0     Y0  Y1  Y2   Y3  Y4  Y5  Y6  Y7  Y8  Y9  Y10  Y11  Y12  Y13\n",
       "0           0  Z2xZ2   7   3  238  47   1   1   9   6   1    6    0   12   42\n",
       "1           1  Z2xZ2   7   3  214  47   1   1   5   2   1    6    0   12   50\n",
       "2           2  Z2xZ2   7   3  250  51   1   1   7   4   1    8    0   16   48\n",
       "3           3  Z2xZ2   7   3  250  35   1   1   7   4   1   10    0   12   46\n",
       "4           4  Z2xZ2   7   3  234  51   1   1   7   4   1    6    0   20   42"
      ]
     },
     "execution_count": 6,
     "metadata": {},
     "output_type": "execute_result"
    }
   ],
   "source": [
    "# check if data is loaded correctly\n",
    "print(df.shape)\n",
    "df.head()"
   ]
  },
  {
   "cell_type": "code",
   "execution_count": 7,
   "metadata": {},
   "outputs": [],
   "source": [
    "# remove first column\n",
    "df = df.drop(\"Unnamed: 0\", axis = 1)"
   ]
  },
  {
   "cell_type": "code",
   "execution_count": 8,
   "metadata": {
    "scrolled": false
   },
   "outputs": [
    {
     "name": "stdout",
     "output_type": "stream",
     "text": [
      "(124941, 14)\n"
     ]
    },
    {
     "data": {
      "text/html": [
       "<div>\n",
       "<style scoped>\n",
       "    .dataframe tbody tr th:only-of-type {\n",
       "        vertical-align: middle;\n",
       "    }\n",
       "\n",
       "    .dataframe tbody tr th {\n",
       "        vertical-align: top;\n",
       "    }\n",
       "\n",
       "    .dataframe thead th {\n",
       "        text-align: right;\n",
       "    }\n",
       "</style>\n",
       "<table border=\"1\" class=\"dataframe\">\n",
       "  <thead>\n",
       "    <tr style=\"text-align: right;\">\n",
       "      <th></th>\n",
       "      <th>Y0</th>\n",
       "      <th>Y1</th>\n",
       "      <th>Y2</th>\n",
       "      <th>Y3</th>\n",
       "      <th>Y4</th>\n",
       "      <th>Y5</th>\n",
       "      <th>Y6</th>\n",
       "      <th>Y7</th>\n",
       "      <th>Y8</th>\n",
       "      <th>Y9</th>\n",
       "      <th>Y10</th>\n",
       "      <th>Y11</th>\n",
       "      <th>Y12</th>\n",
       "      <th>Y13</th>\n",
       "    </tr>\n",
       "  </thead>\n",
       "  <tbody>\n",
       "    <tr>\n",
       "      <th>0</th>\n",
       "      <td>Z2xZ2</td>\n",
       "      <td>7</td>\n",
       "      <td>3</td>\n",
       "      <td>238</td>\n",
       "      <td>47</td>\n",
       "      <td>1</td>\n",
       "      <td>1</td>\n",
       "      <td>9</td>\n",
       "      <td>6</td>\n",
       "      <td>1</td>\n",
       "      <td>6</td>\n",
       "      <td>0</td>\n",
       "      <td>12</td>\n",
       "      <td>42</td>\n",
       "    </tr>\n",
       "    <tr>\n",
       "      <th>1</th>\n",
       "      <td>Z2xZ2</td>\n",
       "      <td>7</td>\n",
       "      <td>3</td>\n",
       "      <td>214</td>\n",
       "      <td>47</td>\n",
       "      <td>1</td>\n",
       "      <td>1</td>\n",
       "      <td>5</td>\n",
       "      <td>2</td>\n",
       "      <td>1</td>\n",
       "      <td>6</td>\n",
       "      <td>0</td>\n",
       "      <td>12</td>\n",
       "      <td>50</td>\n",
       "    </tr>\n",
       "    <tr>\n",
       "      <th>2</th>\n",
       "      <td>Z2xZ2</td>\n",
       "      <td>7</td>\n",
       "      <td>3</td>\n",
       "      <td>250</td>\n",
       "      <td>51</td>\n",
       "      <td>1</td>\n",
       "      <td>1</td>\n",
       "      <td>7</td>\n",
       "      <td>4</td>\n",
       "      <td>1</td>\n",
       "      <td>8</td>\n",
       "      <td>0</td>\n",
       "      <td>16</td>\n",
       "      <td>48</td>\n",
       "    </tr>\n",
       "    <tr>\n",
       "      <th>3</th>\n",
       "      <td>Z2xZ2</td>\n",
       "      <td>7</td>\n",
       "      <td>3</td>\n",
       "      <td>250</td>\n",
       "      <td>35</td>\n",
       "      <td>1</td>\n",
       "      <td>1</td>\n",
       "      <td>7</td>\n",
       "      <td>4</td>\n",
       "      <td>1</td>\n",
       "      <td>10</td>\n",
       "      <td>0</td>\n",
       "      <td>12</td>\n",
       "      <td>46</td>\n",
       "    </tr>\n",
       "    <tr>\n",
       "      <th>4</th>\n",
       "      <td>Z2xZ2</td>\n",
       "      <td>7</td>\n",
       "      <td>3</td>\n",
       "      <td>234</td>\n",
       "      <td>51</td>\n",
       "      <td>1</td>\n",
       "      <td>1</td>\n",
       "      <td>7</td>\n",
       "      <td>4</td>\n",
       "      <td>1</td>\n",
       "      <td>6</td>\n",
       "      <td>0</td>\n",
       "      <td>20</td>\n",
       "      <td>42</td>\n",
       "    </tr>\n",
       "  </tbody>\n",
       "</table>\n",
       "</div>"
      ],
      "text/plain": [
       "      Y0  Y1  Y2   Y3  Y4  Y5  Y6  Y7  Y8  Y9  Y10  Y11  Y12  Y13\n",
       "0  Z2xZ2   7   3  238  47   1   1   9   6   1    6    0   12   42\n",
       "1  Z2xZ2   7   3  214  47   1   1   5   2   1    6    0   12   50\n",
       "2  Z2xZ2   7   3  250  51   1   1   7   4   1    8    0   16   48\n",
       "3  Z2xZ2   7   3  250  35   1   1   7   4   1   10    0   12   46\n",
       "4  Z2xZ2   7   3  234  51   1   1   7   4   1    6    0   20   42"
      ]
     },
     "execution_count": 8,
     "metadata": {},
     "output_type": "execute_result"
    }
   ],
   "source": [
    "# check if data is now correct\n",
    "print(df.shape)\n",
    "df.head()"
   ]
  },
  {
   "cell_type": "markdown",
   "metadata": {},
   "source": [
    "## 1.2 Split in Training and Test Set, One Hot Encode Geometry and other features"
   ]
  },
  {
   "cell_type": "code",
   "execution_count": 9,
   "metadata": {},
   "outputs": [
    {
     "data": {
      "text/html": [
       "<div>\n",
       "<style scoped>\n",
       "    .dataframe tbody tr th:only-of-type {\n",
       "        vertical-align: middle;\n",
       "    }\n",
       "\n",
       "    .dataframe tbody tr th {\n",
       "        vertical-align: top;\n",
       "    }\n",
       "\n",
       "    .dataframe thead th {\n",
       "        text-align: right;\n",
       "    }\n",
       "</style>\n",
       "<table border=\"1\" class=\"dataframe\">\n",
       "  <thead>\n",
       "    <tr style=\"text-align: right;\">\n",
       "      <th></th>\n",
       "      <th>Y1</th>\n",
       "      <th>Y2</th>\n",
       "      <th>Y3</th>\n",
       "      <th>Y4</th>\n",
       "      <th>Y5</th>\n",
       "      <th>Y6</th>\n",
       "      <th>Y7</th>\n",
       "      <th>Y8</th>\n",
       "      <th>Y9</th>\n",
       "      <th>Y10</th>\n",
       "      <th>...</th>\n",
       "      <th>Y0_Z2xZ6-I</th>\n",
       "      <th>Y0_Z3xZ3</th>\n",
       "      <th>Y0_Z3xZ6</th>\n",
       "      <th>Y0_Z4</th>\n",
       "      <th>Y0_Z4xZ4</th>\n",
       "      <th>Y0_Z6-I</th>\n",
       "      <th>Y0_Z6-II</th>\n",
       "      <th>Y0_Z6xZ6</th>\n",
       "      <th>Y0_Z8-I</th>\n",
       "      <th>Y0_Z8-II</th>\n",
       "    </tr>\n",
       "  </thead>\n",
       "  <tbody>\n",
       "    <tr>\n",
       "      <th>0</th>\n",
       "      <td>7</td>\n",
       "      <td>3</td>\n",
       "      <td>238</td>\n",
       "      <td>47</td>\n",
       "      <td>1</td>\n",
       "      <td>1</td>\n",
       "      <td>9</td>\n",
       "      <td>6</td>\n",
       "      <td>1</td>\n",
       "      <td>6</td>\n",
       "      <td>...</td>\n",
       "      <td>0</td>\n",
       "      <td>0</td>\n",
       "      <td>0</td>\n",
       "      <td>0</td>\n",
       "      <td>0</td>\n",
       "      <td>0</td>\n",
       "      <td>0</td>\n",
       "      <td>0</td>\n",
       "      <td>0</td>\n",
       "      <td>0</td>\n",
       "    </tr>\n",
       "    <tr>\n",
       "      <th>1</th>\n",
       "      <td>7</td>\n",
       "      <td>3</td>\n",
       "      <td>214</td>\n",
       "      <td>47</td>\n",
       "      <td>1</td>\n",
       "      <td>1</td>\n",
       "      <td>5</td>\n",
       "      <td>2</td>\n",
       "      <td>1</td>\n",
       "      <td>6</td>\n",
       "      <td>...</td>\n",
       "      <td>0</td>\n",
       "      <td>0</td>\n",
       "      <td>0</td>\n",
       "      <td>0</td>\n",
       "      <td>0</td>\n",
       "      <td>0</td>\n",
       "      <td>0</td>\n",
       "      <td>0</td>\n",
       "      <td>0</td>\n",
       "      <td>0</td>\n",
       "    </tr>\n",
       "    <tr>\n",
       "      <th>2</th>\n",
       "      <td>7</td>\n",
       "      <td>3</td>\n",
       "      <td>250</td>\n",
       "      <td>51</td>\n",
       "      <td>1</td>\n",
       "      <td>1</td>\n",
       "      <td>7</td>\n",
       "      <td>4</td>\n",
       "      <td>1</td>\n",
       "      <td>8</td>\n",
       "      <td>...</td>\n",
       "      <td>0</td>\n",
       "      <td>0</td>\n",
       "      <td>0</td>\n",
       "      <td>0</td>\n",
       "      <td>0</td>\n",
       "      <td>0</td>\n",
       "      <td>0</td>\n",
       "      <td>0</td>\n",
       "      <td>0</td>\n",
       "      <td>0</td>\n",
       "    </tr>\n",
       "    <tr>\n",
       "      <th>3</th>\n",
       "      <td>7</td>\n",
       "      <td>3</td>\n",
       "      <td>250</td>\n",
       "      <td>35</td>\n",
       "      <td>1</td>\n",
       "      <td>1</td>\n",
       "      <td>7</td>\n",
       "      <td>4</td>\n",
       "      <td>1</td>\n",
       "      <td>10</td>\n",
       "      <td>...</td>\n",
       "      <td>0</td>\n",
       "      <td>0</td>\n",
       "      <td>0</td>\n",
       "      <td>0</td>\n",
       "      <td>0</td>\n",
       "      <td>0</td>\n",
       "      <td>0</td>\n",
       "      <td>0</td>\n",
       "      <td>0</td>\n",
       "      <td>0</td>\n",
       "    </tr>\n",
       "    <tr>\n",
       "      <th>4</th>\n",
       "      <td>7</td>\n",
       "      <td>3</td>\n",
       "      <td>234</td>\n",
       "      <td>51</td>\n",
       "      <td>1</td>\n",
       "      <td>1</td>\n",
       "      <td>7</td>\n",
       "      <td>4</td>\n",
       "      <td>1</td>\n",
       "      <td>6</td>\n",
       "      <td>...</td>\n",
       "      <td>0</td>\n",
       "      <td>0</td>\n",
       "      <td>0</td>\n",
       "      <td>0</td>\n",
       "      <td>0</td>\n",
       "      <td>0</td>\n",
       "      <td>0</td>\n",
       "      <td>0</td>\n",
       "      <td>0</td>\n",
       "      <td>0</td>\n",
       "    </tr>\n",
       "  </tbody>\n",
       "</table>\n",
       "<p>5 rows × 27 columns</p>\n",
       "</div>"
      ],
      "text/plain": [
       "   Y1  Y2   Y3  Y4  Y5  Y6  Y7  Y8  Y9  Y10  ...  Y0_Z2xZ6-I  Y0_Z3xZ3  \\\n",
       "0   7   3  238  47   1   1   9   6   1    6  ...           0         0   \n",
       "1   7   3  214  47   1   1   5   2   1    6  ...           0         0   \n",
       "2   7   3  250  51   1   1   7   4   1    8  ...           0         0   \n",
       "3   7   3  250  35   1   1   7   4   1   10  ...           0         0   \n",
       "4   7   3  234  51   1   1   7   4   1    6  ...           0         0   \n",
       "\n",
       "   Y0_Z3xZ6  Y0_Z4  Y0_Z4xZ4  Y0_Z6-I  Y0_Z6-II  Y0_Z6xZ6  Y0_Z8-I  Y0_Z8-II  \n",
       "0         0      0         0        0         0         0        0         0  \n",
       "1         0      0         0        0         0         0        0         0  \n",
       "2         0      0         0        0         0         0        0         0  \n",
       "3         0      0         0        0         0         0        0         0  \n",
       "4         0      0         0        0         0         0        0         0  \n",
       "\n",
       "[5 rows x 27 columns]"
      ]
     },
     "execution_count": 9,
     "metadata": {},
     "output_type": "execute_result"
    }
   ],
   "source": [
    "# one hot encode geometry\n",
    "# pd.get_dummies() just One Hot Encodes categorical data\n",
    "df = pd.get_dummies(df)\n",
    "# check data\n",
    "df.head()"
   ]
  },
  {
   "cell_type": "code",
   "execution_count": 10,
   "metadata": {
    "scrolled": true
   },
   "outputs": [
    {
     "name": "stdout",
     "output_type": "stream",
     "text": [
      "['Y1', 'Y2', 'Y3', 'Y4', 'Y5', 'Y6', 'Y7', 'Y8', 'Y9', 'Y10', 'Y11', 'Y12', 'Y13', 'Y0_Z12-I', 'Y0_Z12-II', 'Y0_Z2xZ2', 'Y0_Z2xZ4', 'Y0_Z2xZ6-I', 'Y0_Z3xZ3', 'Y0_Z3xZ6', 'Y0_Z4', 'Y0_Z4xZ4', 'Y0_Z6-I', 'Y0_Z6-II', 'Y0_Z6xZ6', 'Y0_Z8-I', 'Y0_Z8-II']\n"
     ]
    }
   ],
   "source": [
    "# save column names in list label\n",
    "label = list(df)\n",
    "# check label\n",
    "print(label)"
   ]
  },
  {
   "cell_type": "code",
   "execution_count": 11,
   "metadata": {},
   "outputs": [],
   "source": [
    "# split in input and output\n",
    "# output: orbifold geometry, which we like to predict\n",
    "# input: remaining features, which we like to use for predictions\n",
    "X = df[label[0:13]]\n",
    "y = df[label[13:]]"
   ]
  },
  {
   "cell_type": "code",
   "execution_count": 12,
   "metadata": {
    "scrolled": true
   },
   "outputs": [
    {
     "name": "stdout",
     "output_type": "stream",
     "text": [
      "   Y1  Y2   Y3  Y4  Y5  Y6  Y7  Y8  Y9  Y10  Y11  Y12  Y13\n",
      "0   7   3  238  47   1   1   9   6   1    6    0   12   42\n",
      "1   7   3  214  47   1   1   5   2   1    6    0   12   50\n",
      "2   7   3  250  51   1   1   7   4   1    8    0   16   48\n",
      "3   7   3  250  35   1   1   7   4   1   10    0   12   46\n",
      "4   7   3  234  51   1   1   7   4   1    6    0   20   42\n",
      "   Y0_Z12-I  Y0_Z12-II  Y0_Z2xZ2  Y0_Z2xZ4  Y0_Z2xZ6-I  Y0_Z3xZ3  Y0_Z3xZ6  \\\n",
      "0         0          0         1         0           0         0         0   \n",
      "1         0          0         1         0           0         0         0   \n",
      "2         0          0         1         0           0         0         0   \n",
      "3         0          0         1         0           0         0         0   \n",
      "4         0          0         1         0           0         0         0   \n",
      "\n",
      "   Y0_Z4  Y0_Z4xZ4  Y0_Z6-I  Y0_Z6-II  Y0_Z6xZ6  Y0_Z8-I  Y0_Z8-II  \n",
      "0      0         0        0         0         0        0         0  \n",
      "1      0         0        0         0         0        0         0  \n",
      "2      0         0        0         0         0        0         0  \n",
      "3      0         0        0         0         0        0         0  \n",
      "4      0         0        0         0         0        0         0  \n"
     ]
    }
   ],
   "source": [
    "# check if split is made correct\n",
    "print(X.head())\n",
    "print(y.head())"
   ]
  },
  {
   "cell_type": "code",
   "execution_count": 13,
   "metadata": {},
   "outputs": [
    {
     "name": "stderr",
     "output_type": "stream",
     "text": [
      "/space/ga97hil/anaconda3/envs/keras/lib/python3.7/site-packages/sklearn/preprocessing/_encoders.py:415: FutureWarning: The handling of integer data will change in version 0.22. Currently, the categories are determined based on the range [0, max(values)], while in the future they will be determined based on the unique values.\n",
      "If you want the future behaviour and silence this warning, you can specify \"categories='auto'\".\n",
      "In case you used a LabelEncoder before this OneHotEncoder to convert the categories to integers, then you can now use the OneHotEncoder directly.\n",
      "  warnings.warn(msg, FutureWarning)\n"
     ]
    },
    {
     "data": {
      "text/plain": [
       "array([[0., 0., 0., ..., 0., 0., 0.],\n",
       "       [0., 0., 0., ..., 0., 0., 0.],\n",
       "       [0., 0., 0., ..., 0., 0., 0.],\n",
       "       ...,\n",
       "       [0., 0., 0., ..., 0., 0., 0.],\n",
       "       [0., 0., 0., ..., 0., 0., 0.],\n",
       "       [0., 0., 0., ..., 0., 0., 0.]])"
      ]
     },
     "execution_count": 13,
     "metadata": {},
     "output_type": "execute_result"
    }
   ],
   "source": [
    "# One hot encode also input data, since this works better\n",
    "from sklearn.preprocessing import OneHotEncoder\n",
    "ohe = OneHotEncoder()\n",
    "X_ohe = ohe.fit_transform(X)\n",
    "# Check format\n",
    "X_ohe.toarray()"
   ]
  },
  {
   "cell_type": "code",
   "execution_count": 14,
   "metadata": {},
   "outputs": [],
   "source": [
    "# make same (train test split with 20 percent test data) as above\n",
    "from sklearn.model_selection import train_test_split\n",
    "X_train_ohe, X_test_ohe, y_train, y_test = train_test_split(X_ohe, y, test_size = 0.2, random_state = 1)"
   ]
  },
  {
   "cell_type": "code",
   "execution_count": 15,
   "metadata": {},
   "outputs": [
    {
     "name": "stdout",
     "output_type": "stream",
     "text": [
      "(99952, 704)\n",
      "(24989, 704)\n"
     ]
    }
   ],
   "source": [
    "print(X_train_ohe.shape)\n",
    "print(X_test_ohe.shape)"
   ]
  },
  {
   "cell_type": "markdown",
   "metadata": {},
   "source": [
    "# 2. Set up Neural Network"
   ]
  },
  {
   "cell_type": "code",
   "execution_count": 16,
   "metadata": {},
   "outputs": [
    {
     "name": "stderr",
     "output_type": "stream",
     "text": [
      "Using TensorFlow backend.\n",
      "WARNING: Logging before flag parsing goes to stderr.\n",
      "W0711 15:31:18.983999 139745266288448 deprecation_wrapper.py:119] From /space/ga97hil/anaconda3/envs/keras/lib/python3.7/site-packages/keras/backend/tensorflow_backend.py:74: The name tf.get_default_graph is deprecated. Please use tf.compat.v1.get_default_graph instead.\n",
      "\n",
      "W0711 15:31:19.005706 139745266288448 deprecation_wrapper.py:119] From /space/ga97hil/anaconda3/envs/keras/lib/python3.7/site-packages/keras/backend/tensorflow_backend.py:517: The name tf.placeholder is deprecated. Please use tf.compat.v1.placeholder instead.\n",
      "\n",
      "W0711 15:31:19.008459 139745266288448 deprecation_wrapper.py:119] From /space/ga97hil/anaconda3/envs/keras/lib/python3.7/site-packages/keras/backend/tensorflow_backend.py:4138: The name tf.random_uniform is deprecated. Please use tf.random.uniform instead.\n",
      "\n",
      "W0711 15:31:19.042044 139745266288448 deprecation_wrapper.py:119] From /space/ga97hil/anaconda3/envs/keras/lib/python3.7/site-packages/keras/optimizers.py:790: The name tf.train.Optimizer is deprecated. Please use tf.compat.v1.train.Optimizer instead.\n",
      "\n",
      "W0711 15:31:19.048659 139745266288448 deprecation_wrapper.py:119] From /space/ga97hil/anaconda3/envs/keras/lib/python3.7/site-packages/keras/backend/tensorflow_backend.py:3295: The name tf.log is deprecated. Please use tf.math.log instead.\n",
      "\n"
     ]
    },
    {
     "name": "stdout",
     "output_type": "stream",
     "text": [
      "_________________________________________________________________\n",
      "Layer (type)                 Output Shape              Param #   \n",
      "=================================================================\n",
      "dense_1 (Dense)              (None, 600)               423000    \n",
      "_________________________________________________________________\n",
      "dense_2 (Dense)              (None, 14)                8414      \n",
      "=================================================================\n",
      "Total params: 431,414\n",
      "Trainable params: 431,414\n",
      "Non-trainable params: 0\n",
      "_________________________________________________________________\n"
     ]
    }
   ],
   "source": [
    "# setup model\n",
    "from keras import models\n",
    "from keras import layers\n",
    "from keras import optimizers\n",
    "from keras import regularizers\n",
    "\n",
    "model = models.Sequential()\n",
    "model.add(layers.Dense(600, activation = 'relu',\n",
    "                       input_shape = (704,)))\n",
    "model.add(layers.Dense(14, activation = 'softmax'))\n",
    "\n",
    "model.compile(optimizer = optimizers.RMSprop(lr = 0.001),\n",
    "              loss = 'categorical_crossentropy',\n",
    "              metrics = ['accuracy'])\n",
    "\n",
    "# show summary of model\n",
    "model.summary()"
   ]
  },
  {
   "cell_type": "code",
   "execution_count": 17,
   "metadata": {
    "scrolled": true
   },
   "outputs": [
    {
     "name": "stderr",
     "output_type": "stream",
     "text": [
      "W0711 15:31:19.184976 139745266288448 deprecation.py:323] From /space/ga97hil/anaconda3/envs/keras/lib/python3.7/site-packages/tensorflow/python/ops/math_grad.py:1250: add_dispatch_support.<locals>.wrapper (from tensorflow.python.ops.array_ops) is deprecated and will be removed in a future version.\n",
      "Instructions for updating:\n",
      "Use tf.where in 2.0, which has the same broadcast rule as np.where\n",
      "W0711 15:31:19.290042 139745266288448 deprecation_wrapper.py:119] From /space/ga97hil/anaconda3/envs/keras/lib/python3.7/site-packages/keras/backend/tensorflow_backend.py:986: The name tf.assign_add is deprecated. Please use tf.compat.v1.assign_add instead.\n",
      "\n"
     ]
    },
    {
     "name": "stdout",
     "output_type": "stream",
     "text": [
      "Train on 79961 samples, validate on 19991 samples\n",
      "Epoch 1/30\n",
      "79961/79961 [==============================] - 4s 54us/step - loss: 0.7478 - acc: 0.7843 - val_loss: 0.5764 - val_acc: 0.8179\n",
      "Epoch 2/30\n",
      "79961/79961 [==============================] - 4s 49us/step - loss: 0.5210 - acc: 0.8314 - val_loss: 0.5082 - val_acc: 0.8342\n",
      "Epoch 3/30\n",
      "79961/79961 [==============================] - 4s 47us/step - loss: 0.4452 - acc: 0.8521 - val_loss: 0.4540 - val_acc: 0.8510\n",
      "Epoch 4/30\n",
      "79961/79961 [==============================] - 4s 54us/step - loss: 0.3892 - acc: 0.8702 - val_loss: 0.4226 - val_acc: 0.8614\n",
      "Epoch 5/30\n",
      "79961/79961 [==============================] - 4s 50us/step - loss: 0.3436 - acc: 0.8853 - val_loss: 0.4035 - val_acc: 0.8673\n",
      "Epoch 6/30\n",
      "79961/79961 [==============================] - 4s 46us/step - loss: 0.3067 - acc: 0.8978 - val_loss: 0.3871 - val_acc: 0.8702\n",
      "Epoch 7/30\n",
      "79961/79961 [==============================] - 4s 46us/step - loss: 0.2748 - acc: 0.9078 - val_loss: 0.3821 - val_acc: 0.8724\n",
      "Epoch 8/30\n",
      "79961/79961 [==============================] - 4s 54us/step - loss: 0.2482 - acc: 0.9179 - val_loss: 0.3692 - val_acc: 0.8806\n",
      "Epoch 9/30\n",
      "79961/79961 [==============================] - 4s 48us/step - loss: 0.2250 - acc: 0.9266 - val_loss: 0.3566 - val_acc: 0.8850\n",
      "Epoch 10/30\n",
      "79961/79961 [==============================] - 4s 44us/step - loss: 0.2040 - acc: 0.9335 - val_loss: 0.3669 - val_acc: 0.8831\n",
      "Epoch 11/30\n",
      "79961/79961 [==============================] - 4s 46us/step - loss: 0.1853 - acc: 0.9409 - val_loss: 0.3517 - val_acc: 0.8859\n",
      "Epoch 12/30\n",
      "79961/79961 [==============================] - 3s 40us/step - loss: 0.1679 - acc: 0.9469 - val_loss: 0.3578 - val_acc: 0.8883\n",
      "Epoch 13/30\n",
      "79961/79961 [==============================] - 3s 43us/step - loss: 0.1523 - acc: 0.9517 - val_loss: 0.3564 - val_acc: 0.8911\n",
      "Epoch 14/30\n",
      "79961/79961 [==============================] - 4s 48us/step - loss: 0.1381 - acc: 0.9576 - val_loss: 0.3519 - val_acc: 0.8912\n",
      "Epoch 15/30\n",
      "79961/79961 [==============================] - 4s 48us/step - loss: 0.1242 - acc: 0.9622 - val_loss: 0.3516 - val_acc: 0.8923\n",
      "Epoch 16/30\n",
      "79961/79961 [==============================] - 4s 44us/step - loss: 0.1121 - acc: 0.9662 - val_loss: 0.3619 - val_acc: 0.8894\n",
      "Epoch 17/30\n",
      "79961/79961 [==============================] - 4s 48us/step - loss: 0.1011 - acc: 0.9703 - val_loss: 0.3614 - val_acc: 0.8931\n",
      "Epoch 18/30\n",
      "79961/79961 [==============================] - 3s 43us/step - loss: 0.0910 - acc: 0.9742 - val_loss: 0.3665 - val_acc: 0.8919\n",
      "Epoch 19/30\n",
      "79961/79961 [==============================] - 4s 45us/step - loss: 0.0818 - acc: 0.9766 - val_loss: 0.3754 - val_acc: 0.8931\n",
      "Epoch 20/30\n",
      "79961/79961 [==============================] - 3s 43us/step - loss: 0.0728 - acc: 0.9799 - val_loss: 0.3828 - val_acc: 0.8894\n",
      "Epoch 21/30\n",
      "79961/79961 [==============================] - 4s 51us/step - loss: 0.0652 - acc: 0.9826 - val_loss: 0.3835 - val_acc: 0.8933\n",
      "Epoch 22/30\n",
      "79961/79961 [==============================] - 4s 44us/step - loss: 0.0581 - acc: 0.9850 - val_loss: 0.3891 - val_acc: 0.8886\n",
      "Epoch 23/30\n",
      "79961/79961 [==============================] - 3s 42us/step - loss: 0.0517 - acc: 0.9872 - val_loss: 0.3989 - val_acc: 0.8927\n",
      "Epoch 24/30\n",
      "79961/79961 [==============================] - 3s 42us/step - loss: 0.0455 - acc: 0.9897 - val_loss: 0.4079 - val_acc: 0.8910\n",
      "Epoch 25/30\n",
      "79961/79961 [==============================] - 3s 41us/step - loss: 0.0401 - acc: 0.9912 - val_loss: 0.4142 - val_acc: 0.8913\n",
      "Epoch 26/30\n",
      "79961/79961 [==============================] - 4s 44us/step - loss: 0.0356 - acc: 0.9923 - val_loss: 0.4196 - val_acc: 0.8873\n",
      "Epoch 27/30\n",
      "79961/79961 [==============================] - 4s 45us/step - loss: 0.0311 - acc: 0.9938 - val_loss: 0.4265 - val_acc: 0.8917\n",
      "Epoch 28/30\n",
      "79961/79961 [==============================] - 4s 49us/step - loss: 0.0274 - acc: 0.9948 - val_loss: 0.4492 - val_acc: 0.8927\n",
      "Epoch 29/30\n",
      "79961/79961 [==============================] - 5s 66us/step - loss: 0.0239 - acc: 0.9958 - val_loss: 0.4683 - val_acc: 0.8936\n",
      "Epoch 30/30\n",
      "79961/79961 [==============================] - 7s 87us/step - loss: 0.0209 - acc: 0.9964 - val_loss: 0.4694 - val_acc: 0.8920\n"
     ]
    }
   ],
   "source": [
    "# fit model\n",
    "history = model.fit(X_train_ohe, y_train,\n",
    "                    validation_split = 0.2,\n",
    "                    batch_size = 256,\n",
    "                    epochs = 30)"
   ]
  },
  {
   "cell_type": "code",
   "execution_count": 18,
   "metadata": {},
   "outputs": [
    {
     "data": {
      "text/plain": [
       "<Figure size 640x480 with 1 Axes>"
      ]
     },
     "metadata": {},
     "output_type": "display_data"
    },
    {
     "data": {
      "text/plain": [
       "<Figure size 640x480 with 1 Axes>"
      ]
     },
     "metadata": {},
     "output_type": "display_data"
    },
    {
     "name": "stdout",
     "output_type": "stream",
     "text": [
      "max Accuracy: 0.8936021209663558\n",
      "Epochs to max Accuracy: 28\n",
      "min Loss: 0.35158313018024834\n",
      "Epochs to min Loss; 14\n"
     ]
    }
   ],
   "source": [
    "# Plot model history\n",
    "import matplotlib.pyplot as plt\n",
    "\n",
    "loss = history.history['loss']\n",
    "val_loss = history.history['val_loss']\n",
    "epochs = range(1, len(loss) +1)\n",
    "\n",
    "plt.plot(epochs, loss, 'bo', label = 'loss training')\n",
    "plt.plot(epochs, val_loss, 'b', label = 'loss validation')\n",
    "plt.title('Estimate of Loss Funcion training/validation')\n",
    "plt.xlabel('epochs')\n",
    "plt.ylabel('estimate of loss function')\n",
    "plt.legend()\n",
    "plt.show()\n",
    "\n",
    "acc = history.history['acc']\n",
    "val_acc = history.history['val_acc']\n",
    "\n",
    "plt.plot(epochs, acc, 'bo', label = 'training')\n",
    "plt.plot(epochs, val_acc, 'b', label = 'validataion')\n",
    "plt.title('Accuracy of training/validation')\n",
    "plt.xlabel('epochs')\n",
    "plt.ylabel('estimate of accuracy')\n",
    "plt.legend()\n",
    "plt.show()\n",
    "\n",
    "print('max Accuracy:', max(val_acc))\n",
    "print('Epochs to max Accuracy:', val_acc.index(max(val_acc)))\n",
    "print('min Loss:', min(val_loss))\n",
    "print('Epochs to min Loss;', val_loss.index(min(val_loss)))"
   ]
  },
  {
   "cell_type": "markdown",
   "metadata": {},
   "source": [
    "## Example of model with some regularization"
   ]
  },
  {
   "cell_type": "raw",
   "metadata": {},
   "source": [
    "# callbacks\n",
    "from keras import callbacks\n",
    "callbacks_list = [callbacks.EarlyStopping(monitor = \"val_acc\",\n",
    "                                          patience = 15,),\n",
    "                  callbacks.ReduceLROnPlateau(monitor = \"val_acc\",\n",
    "                                              factor = 0.5,\n",
    "                                              patience = 5)]"
   ]
  },
  {
   "cell_type": "raw",
   "metadata": {},
   "source": [
    "# setup model\n",
    "from keras import models\n",
    "from keras import layers\n",
    "from keras import optimizers\n",
    "from keras import regularizers\n",
    "\n",
    "model = models.Sequential()\n",
    "model.add(layers.Dense(200, activation = 'relu', kernel_regularizer = regularizers.l2(0.001),\n",
    "                       input_shape = (704,)))\n",
    "model.add(layers.Dropout(0.1))\n",
    "model.add(layers.Dense(50, activation = 'relu'))\n",
    "model.add(layers.Dropout(0.1))\n",
    "model.add(layers.Dense(14, activation = 'softmax'))\n",
    "\n",
    "model.compile(optimizer = optimizers.RMSprop(lr = 0.001),\n",
    "              loss = 'categorical_crossentropy',\n",
    "              metrics = ['accuracy'])\n",
    "\n",
    "# show summary of model\n",
    "model.summary()"
   ]
  },
  {
   "cell_type": "raw",
   "metadata": {
    "scrolled": true
   },
   "source": [
    "# fit model\n",
    "history = model.fit(X_train_ohe, y_train,\n",
    "                    validation_split = 0.2,\n",
    "                    batch_size = 64,\n",
    "                    epochs = 100,\n",
    "                    callbacks = callbacks_list)"
   ]
  },
  {
   "cell_type": "markdown",
   "metadata": {},
   "source": [
    "# 3. Predictions with Neural Network"
   ]
  },
  {
   "cell_type": "markdown",
   "metadata": {},
   "source": [
    "## Warning: only do this if you have already adjusted your hyperparameters."
   ]
  },
  {
   "cell_type": "markdown",
   "metadata": {},
   "source": [
    "## If you touch the hyperparameters again after testing, this leads to Data Leakage and you cannot trust the predictions on the test set anymore"
   ]
  },
  {
   "cell_type": "code",
   "execution_count": 60,
   "metadata": {},
   "outputs": [
    {
     "name": "stdout",
     "output_type": "stream",
     "text": [
      "_________________________________________________________________\n",
      "Layer (type)                 Output Shape              Param #   \n",
      "=================================================================\n",
      "dense_21 (Dense)             (None, 600)               423000    \n",
      "_________________________________________________________________\n",
      "dense_22 (Dense)             (None, 14)                8414      \n",
      "=================================================================\n",
      "Total params: 431,414\n",
      "Trainable params: 431,414\n",
      "Non-trainable params: 0\n",
      "_________________________________________________________________\n"
     ]
    }
   ],
   "source": [
    "# setup model\n",
    "from keras import models\n",
    "from keras import layers\n",
    "from keras import optimizers\n",
    "from keras import regularizers\n",
    "\n",
    "model = models.Sequential()\n",
    "model.add(layers.Dense(600, activation = 'relu',\n",
    "                       input_shape = (704,)))\n",
    "model.add(layers.Dense(14, activation = 'softmax'))\n",
    "\n",
    "model.compile(optimizer = optimizers.RMSprop(lr = 0.001),\n",
    "              loss = 'categorical_crossentropy',\n",
    "              metrics = ['accuracy'])\n",
    "\n",
    "# show summary of model\n",
    "model.summary()"
   ]
  },
  {
   "cell_type": "code",
   "execution_count": 61,
   "metadata": {
    "scrolled": true
   },
   "outputs": [
    {
     "name": "stdout",
     "output_type": "stream",
     "text": [
      "Epoch 1/13\n",
      "99952/99952 [==============================] - 5s 50us/step - loss: 0.7145 - acc: 0.7888\n",
      "Epoch 2/13\n",
      "99952/99952 [==============================] - 5s 53us/step - loss: 0.4997 - acc: 0.8359\n",
      "Epoch 3/13\n",
      "99952/99952 [==============================] - 5s 48us/step - loss: 0.4234 - acc: 0.8592\n",
      "Epoch 4/13\n",
      "99952/99952 [==============================] - 4s 40us/step - loss: 0.3664 - acc: 0.8772\n",
      "Epoch 5/13\n",
      "99952/99952 [==============================] - 5s 52us/step - loss: 0.3226 - acc: 0.8925\n",
      "Epoch 6/13\n",
      "99952/99952 [==============================] - 5s 54us/step - loss: 0.2877 - acc: 0.9044\n",
      "Epoch 7/13\n",
      "99952/99952 [==============================] - 5s 50us/step - loss: 0.2581 - acc: 0.9143\n",
      "Epoch 8/13\n",
      "99952/99952 [==============================] - 4s 44us/step - loss: 0.2325 - acc: 0.9231\n",
      "Epoch 9/13\n",
      "99952/99952 [==============================] - 5s 49us/step - loss: 0.2105 - acc: 0.9307\n",
      "Epoch 10/13\n",
      "99952/99952 [==============================] - 6s 57us/step - loss: 0.1907 - acc: 0.9376\n",
      "Epoch 11/13\n",
      "99952/99952 [==============================] - 5s 47us/step - loss: 0.1731 - acc: 0.9445\n",
      "Epoch 12/13\n",
      "99952/99952 [==============================] - 5s 49us/step - loss: 0.1568 - acc: 0.9501\n",
      "Epoch 13/13\n",
      "99952/99952 [==============================] - 5s 50us/step - loss: 0.1422 - acc: 0.9551\n"
     ]
    },
    {
     "data": {
      "text/plain": [
       "<keras.callbacks.History at 0x7f87eccae9b0>"
      ]
     },
     "execution_count": 61,
     "metadata": {},
     "output_type": "execute_result"
    }
   ],
   "source": [
    "# train again without validation split\n",
    "model.fit(X_train_ohe, y_train, \n",
    "          batch_size = 256, \n",
    "          epochs = 13)"
   ]
  },
  {
   "cell_type": "code",
   "execution_count": 62,
   "metadata": {},
   "outputs": [],
   "source": [
    "# make predictions\n",
    "pred = model.predict(X_test_ohe)\n",
    "y_hat = pred.argmax(axis=1)                  # take max argument of vector as prediction\n",
    "y_true = y_test.values.argmax(axis=1)        # take max argument of vector as prediction"
   ]
  },
  {
   "cell_type": "code",
   "execution_count": 67,
   "metadata": {},
   "outputs": [
    {
     "name": "stdout",
     "output_type": "stream",
     "text": [
      "[ 8  8 13  3  0  8  3  3  3  8  8  3  3  5  8  8  3  3  8  3]\n",
      "[ 8  8 13  3  0  8  3  3  3  8  8  3  3  5  8 11  3  3  8  3]\n"
     ]
    }
   ],
   "source": [
    "print(y_hat[0:20])\n",
    "print(y_true[0:20])"
   ]
  },
  {
   "cell_type": "code",
   "execution_count": 64,
   "metadata": {},
   "outputs": [
    {
     "name": "stdout",
     "output_type": "stream",
     "text": [
      "[[  151     0     0     7     0     1     2     0    11     0     3     0     0     0]\n",
      " [    0    37     0     4     3     0     1     0     1     0     0     0     0     7]\n",
      " [    0     1   272    20     0     0     0     2     0     0     1     0     0     0]\n",
      " [   16    32    57 10758   120     5    27     7   364     0    70    12    18   103]\n",
      " [    0     1     0    10    38     0     3     0     3     0     0     4     0     3]\n",
      " [    2     0     0     1     0   612    23     0    10     0     1     1     0     0]\n",
      " [    8     0     1     9     3    11   622     0   176     2     5    13     0     0]\n",
      " [    0     1     0     1     0     0     0    33     0     0     0     0     0     0]\n",
      " [   34     3     0   188    37    20   329     0  9038     1     8   415    16    12]\n",
      " [    0     0     0     0     0     0     0     0     0     9     0     0     0     0]\n",
      " [    6     4     5    21     4     1     2     0     5     0   161     0     2    17]\n",
      " [    0     0     0     5     2     0    16     0    99     0     0   253     0     0]\n",
      " [    2     0     0     7     0     0     1     1    24     0     2     0   156     5]\n",
      " [    0     3     0    13     3     0     1     0     5     0     8     1     1   333]]\n"
     ]
    }
   ],
   "source": [
    "# confusion matrix\n",
    "import numpy as np\n",
    "np.set_printoptions(linewidth=200)             # just for nicer printing\n",
    "\n",
    "from sklearn.metrics import confusion_matrix\n",
    "print(confusion_matrix(y_hat, y_true))"
   ]
  },
  {
   "cell_type": "code",
   "execution_count": 70,
   "metadata": {},
   "outputs": [
    {
     "data": {
      "text/plain": [
       "['Y0_Z12-I',\n",
       " 'Y0_Z12-II',\n",
       " 'Y0_Z2xZ2',\n",
       " 'Y0_Z2xZ4',\n",
       " 'Y0_Z2xZ6-I',\n",
       " 'Y0_Z3xZ3',\n",
       " 'Y0_Z3xZ6',\n",
       " 'Y0_Z4',\n",
       " 'Y0_Z4xZ4',\n",
       " 'Y0_Z6-I',\n",
       " 'Y0_Z6-II',\n",
       " 'Y0_Z6xZ6',\n",
       " 'Y0_Z8-I',\n",
       " 'Y0_Z8-II']"
      ]
     },
     "execution_count": 70,
     "metadata": {},
     "output_type": "execute_result"
    }
   ],
   "source": [
    "# column names of Y\n",
    "list(y)"
   ]
  },
  {
   "cell_type": "code",
   "execution_count": 71,
   "metadata": {},
   "outputs": [
    {
     "data": {
      "text/plain": [
       "0.8993156989075193"
      ]
     },
     "execution_count": 71,
     "metadata": {},
     "output_type": "execute_result"
    }
   ],
   "source": [
    "# calculate accuracy of our model on test set\n",
    "sum(y_hat == y_true)/len(y_hat)"
   ]
  },
  {
   "cell_type": "markdown",
   "metadata": {},
   "source": [
    "Hence, we are able to predict around 89.9 pecent of the time the right orbifold geometry"
   ]
  }
 ],
 "metadata": {
  "kernelspec": {
   "display_name": "Python 3",
   "language": "python",
   "name": "python3"
  },
  "language_info": {
   "codemirror_mode": {
    "name": "ipython",
    "version": 3
   },
   "file_extension": ".py",
   "mimetype": "text/x-python",
   "name": "python",
   "nbconvert_exporter": "python",
   "pygments_lexer": "ipython3",
   "version": "3.7.3"
  }
 },
 "nbformat": 4,
 "nbformat_minor": 2
}
