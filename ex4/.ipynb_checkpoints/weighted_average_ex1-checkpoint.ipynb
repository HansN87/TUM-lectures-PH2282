{
 "cells": [
  {
   "cell_type": "code",
   "execution_count": 1,
   "metadata": {},
   "outputs": [],
   "source": [
    "# here we demonstrate how to calculate the mean value of a function g(x) w.r.t pdf f(x) through 3 different methods\n",
    "# 1) numerical integration\n",
    "# 2) direct Monte Carlo from f(x)\n",
    "# 3) weighted Monte Carlo from different pdf h(x)\n",
    "#\n",
    "# here we use g(x)=x\n",
    "# f(x) is our toy model\n",
    "# and h(x) is a uniform pdf\n",
    "\n",
    "import numpy as np\n",
    "from scipy.stats import norm\n",
    "np.random.seed(0)\n",
    "\n",
    "# define expectations\n",
    "lambda_s = 1000.\n",
    "lambda_b = 1000.\n",
    "\n",
    "# define energy range\n",
    "xmin =  0.0\n",
    "xmax = 20.0\n",
    "\n",
    "# define Gaussian mean and sigma\n",
    "gaussian_mean =  8.0\n",
    "gaussian_sigma =  1.0\n",
    "\n",
    "# define model as a function. The function works on a vector of samples x\n",
    "def model_pdf(x, lambda_s=lambda_s, lambda_b=lambda_b, xmin=xmin, xmax=xmax, gaussian_mean=gaussian_mean, gaussian_sigma=gaussian_sigma):\n",
    "    # uniform background + gaussian signal \n",
    "    result = (1./(lambda_s+lambda_b)) * (lambda_s  * norm.pdf(x, gaussian_mean, gaussian_sigma)  + lambda_b * 1./(xmax - xmin) )\n",
    "\n",
    "    if isinstance(x, np.ndarray):\n",
    "        # check bounds and set to zero samples out of defined energy range\n",
    "        idx = np.where(x < xmin)[0]\n",
    "        result[idx]=np.zeros(len(idx))\n",
    "        idx = np.where(x > xmax)[0]\n",
    "        result[idx]=np.zeros(len(idx))\n",
    "    else:\n",
    "        if x < xmin or x > xmax:\n",
    "            result=0.0\n",
    "            \n",
    "    return result"
   ]
  },
  {
   "cell_type": "code",
   "execution_count": 6,
   "metadata": {},
   "outputs": [
    {
     "data": {
      "image/png": "[encoded data removed]",
      "text/plain": [
       "<Figure size 432x288 with 1 Axes>"
      ]
     },
     "metadata": {
      "needs_background": "light"
     },
     "output_type": "display_data"
    }
   ],
   "source": [
    "# visualize functions\n",
    "import matplotlib.pyplot as plt\n",
    "\n",
    "x_pts = np.linspace(xmin, xmax, 10000)\n",
    "yf_pts = model_pdf(x_pts)\n",
    "yg_pts = x_pts\n",
    "\n",
    "plt.plot(x_pts, yf_pts * 50, 'b-', label=\"f(x) scaled\")\n",
    "plt.plot(x_pts, yg_pts, 'g-', label=\"g(x)\")\n",
    "plt.plot(x_pts, np.ones(len(x_pts)) * 10., 'r-', label=\"h(x) scaled\")\n",
    "plt.legend(fontsize=14)\n",
    "plt.xlabel(\"x\", fontsize=18)\n",
    "plt.ylabel(\"y\", fontsize=18)\n",
    "plt.tick_params(labelsize=18)\n",
    "plt.show()\n"
   ]
  },
  {
   "cell_type": "code",
   "execution_count": 3,
   "metadata": {},
   "outputs": [
    {
     "name": "stdout",
     "output_type": "stream",
     "text": [
      "average of model pdf (integration) 9.0 pm 2.7024821968e-08\n"
     ]
    }
   ],
   "source": [
    "# estimate average through numerical integration\n",
    "from scipy.integrate import quad\n",
    "\n",
    "fint = lambda x: x * model_pdf(x)\n",
    "result = quad(fint, xmin, xmax)\n",
    "print \"average of model pdf (integration)\", result[0], \"pm\", result[1]"
   ]
  },
  {
   "cell_type": "code",
   "execution_count": 4,
   "metadata": {},
   "outputs": [
    {
     "name": "stdout",
     "output_type": "stream",
     "text": [
      "average of model pdf (direct simulation) 9.074335810410966\n",
      "standard error of estimator: 0.1319739714833809\n"
     ]
    }
   ],
   "source": [
    "# estimate average through direct sampling (MC) from model pdf\n",
    "# here we take advantage of the model being a finite mixture of models that are easy to sample from\n",
    "# (otherwise do inverse cdf, accept reject etc ..)\n",
    "\n",
    "import numpy\n",
    "\n",
    "nsamples = int(1.e3)\n",
    "\n",
    "def get_sample(nsamples):\n",
    "    rvars = numpy.random.uniform(0,1, nsamples)\n",
    "    \n",
    "    lambda_tot = lambda_s + lambda_b\n",
    "    idx_s = numpy.where(rvars <= lambda_s / lambda_tot)[0]\n",
    "    idx_b = numpy.where(rvars >  lambda_s / lambda_tot)[0]\n",
    "    \n",
    "    # Second step. Store in \"samples\" the energy value of each event\n",
    "    samples = numpy.zeros(nsamples)\n",
    "    # draw samples that are realized as background events from the background distribution                                                                                \n",
    "    samples[idx_b]=numpy.random.uniform(xmin, xmax, len(idx_b))\n",
    "    # draw samples that are realized as signal events from the signal distribution \n",
    "    samples[idx_s]=numpy.random.normal(gaussian_mean, gaussian_sigma, len(idx_s))\n",
    "    return samples\n",
    "\n",
    "result = numpy.mean(get_sample(nsamples))\n",
    "print \"average of model pdf (direct simulation)\", result\n",
    "\n",
    "# variance of estimated means from toys\n",
    "ntoys = int(1.e3)\n",
    "results = np.zeros(ntoys)\n",
    "for i in range(ntoys):\n",
    "    results[i] = np.mean(get_sample(nsamples))\n",
    "    \n",
    "print \"standard error of estimator:\", np.sqrt(np.var(results))\n",
    "\n"
   ]
  },
  {
   "cell_type": "code",
   "execution_count": 5,
   "metadata": {},
   "outputs": [
    {
     "name": "stdout",
     "output_type": "stream",
     "text": [
      "average of model pdf (weighted simulation) 8.978485097172797\n",
      "standard error of estimator: 0.10856945971467807\n"
     ]
    }
   ],
   "source": [
    "# estimate average through importance sampling (weighted MC)\n",
    "\n",
    "nsamples = int(1.e3)\n",
    "\n",
    "samples = np.random.uniform(xmin, xmax, nsamples)\n",
    "\n",
    "def generation_pdf(x):\n",
    "    result = 1./(xmax - xmin)\n",
    "    \n",
    "    if isinstance(x, np.ndarray):\n",
    "        result = np.ones(len(x))*result\n",
    "        # check bounds and set to zero samples out of defined energy range\n",
    "        idx = numpy.where(x < xmin)[0]\n",
    "        result[idx]=numpy.zeros(len(idx))\n",
    "        idx = numpy.where(x > xmax)[0]\n",
    "        result[idx]=numpy.zeros(len(idx))\n",
    "    else:\n",
    "        if x < xmin or x > xmax:\n",
    "            result=0.0\n",
    "            \n",
    "    return result\n",
    "\n",
    "weights = model_pdf(samples) / generation_pdf(samples)\n",
    "result = np.average(samples, weights=weights)\n",
    "\n",
    "print \"average of model pdf (weighted simulation)\", result\n",
    "\n",
    "\n",
    "# variance of estimated means from toys\n",
    "ntoys = int(1.e3)\n",
    "results = np.zeros(ntoys)\n",
    "for i in range(ntoys):\n",
    "    samples = np.random.uniform(xmin, xmax, nsamples)\n",
    "    weights = model_pdf(samples) / generation_pdf(samples)\n",
    "    results[i] = np.average(samples, weights=weights)\n",
    "    \n",
    "print \"standard error of estimator:\", np.sqrt(np.var(results))"
   ]
  }
 ],
 "metadata": {
  "kernelspec": {
   "display_name": "Python 2",
   "language": "python",
   "name": "python2"
  },
  "language_info": {
   "codemirror_mode": {
    "name": "ipython",
    "version": 2
   },
   "file_extension": ".py",
   "mimetype": "text/x-python",
   "name": "python",
   "nbconvert_exporter": "python",
   "pygments_lexer": "ipython2",
   "version": "2.7.16"
  }
 },
 "nbformat": 4,
 "nbformat_minor": 2
}
