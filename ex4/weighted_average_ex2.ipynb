{
 "cells": [
  {
   "cell_type": "code",
   "execution_count": 1,
   "metadata": {},
   "outputs": [],
   "source": [
    "# here we demonstrate how to calculate the mean value of a function g(x) w.r.t pdf f(x) through 3 different methods\n",
    "# 1) numerical integration\n",
    "# 2) direct Monte Carlo from f(x)\n",
    "# 3) weighted Monte Carlo from different pdf h(x)\n",
    "#\n",
    "# here we use g(x) as gaussian kernel\n",
    "# f(x) is a truncated pareto pdf with k=3 \n",
    "# and h(x) is also a truncated pareto pdf but with different k=-1"
   ]
  },
  {
   "cell_type": "code",
   "execution_count": 2,
   "metadata": {},
   "outputs": [],
   "source": [
    "import numpy as np\n",
    "from simulator.pareto_sampler import pareto as truncated_pareto\n",
    "\n",
    "np.random.seed(0)\n",
    "\n",
    "xmin = 1.\n",
    "xmax = 10.\n",
    "\n",
    "k=3\n",
    "kw = 0.1\n",
    "\n",
    "tp = truncated_pareto(k, xmin, xmax)\n",
    "tpw = truncated_pareto(kw, xmin, xmax)\n",
    "\n",
    "def g(x):\n",
    "    x0 = 5\n",
    "    sigma_sq = 1**2\n",
    "    return np.exp(-1./2. * (x-x0)**2/sigma_sq)"
   ]
  },
  {
   "cell_type": "code",
   "execution_count": 7,
   "metadata": {},
   "outputs": [
    {
     "data": {
      "image/png": "[encoded data removed]",
      "text/plain": [
       "<Figure size 432x288 with 1 Axes>"
      ]
     },
     "metadata": {
      "needs_background": "light"
     },
     "output_type": "display_data"
    }
   ],
   "source": [
    "# visualize functions\n",
    "import matplotlib.pyplot as plt\n",
    "\n",
    "x_pts = np.linspace(xmin, xmax, 10000)\n",
    "yf_pts = tp.pdf(x_pts)\n",
    "yg_pts = g(x_pts)\n",
    "yh_pts = tpw.pdf(x_pts)\n",
    "\n",
    "plt.plot(x_pts, yf_pts, 'b-', label=\"f(x)\")\n",
    "plt.plot(x_pts, yg_pts, 'g-', label=\"g(x)\")\n",
    "plt.plot(x_pts, yh_pts, 'r-', label=\"h(x)\")\n",
    "plt.legend(fontsize=18)\n",
    "plt.xlabel(\"x\", fontsize=18)\n",
    "plt.ylabel(\"y\", fontsize=18)\n",
    "plt.tick_params(labelsize=18)\n",
    "plt.show()"
   ]
  },
  {
   "cell_type": "code",
   "execution_count": 4,
   "metadata": {},
   "outputs": [
    {
     "name": "stdout",
     "output_type": "stream",
     "text": [
      "average of model pdf (integration) 0.0551467467244 pm 3.09596727595e-12\n"
     ]
    }
   ],
   "source": [
    "# estimate average through numerical integration\n",
    "from scipy.integrate import quad\n",
    "\n",
    "fint = lambda x: g(x) * tp.pdf(x)\n",
    "result = quad(fint, xmin, xmax)\n",
    "print \"average of model pdf (integration)\", result[0], \"pm\", result[1]"
   ]
  },
  {
   "cell_type": "code",
   "execution_count": 5,
   "metadata": {},
   "outputs": [
    {
     "name": "stdout",
     "output_type": "stream",
     "text": [
      "average of model pdf (direct simulation) 0.06447151354673225\n",
      "standard error of estimator: 0.036625290290100705\n"
     ]
    }
   ],
   "source": [
    "# estimate average through direct sampling (MC) from model pdf\n",
    "# here we take advantage of the model being a finite mixture of models that are easy to sample from\n",
    "# (otherwise do inverse cdf, accept reject etc ..)\n",
    "\n",
    "nsamples = int(1.e3)\n",
    "samples = tp.sample_pareto(nsamples)\n",
    "\n",
    "g_samples = g(samples)\n",
    "result = np.mean(g_samples)\n",
    "\n",
    "print \"average of model pdf (direct simulation)\", result\n",
    "\n",
    "# variance of estimated means from toys\n",
    "ntoys = int(1.e3)\n",
    "results = np.zeros(ntoys)\n",
    "for i in range(ntoys):\n",
    "    results[i] = np.mean(tp.sample_pareto(nsamples))\n",
    "    \n",
    "print \"standard error of estimator:\", np.sqrt(np.var(results))"
   ]
  },
  {
   "cell_type": "code",
   "execution_count": 6,
   "metadata": {},
   "outputs": [
    {
     "name": "stdout",
     "output_type": "stream",
     "text": [
      "average of model pdf (weighted simulation) 0.05783950050227129\n",
      "standard error of estimator: 0.004684648114230026\n"
     ]
    }
   ],
   "source": [
    "# estimate average through importance sampling (weighted MC)\n",
    "# note: in contrast to the previous example ex1 - the weighted MC technique wins out by alot.\n",
    "\n",
    "nsamples = int(1.e3)\n",
    "samples = tpw.sample_pareto(nsamples)\n",
    "\n",
    "g_samples = g(samples)\n",
    "\n",
    "weights = tp.pdf(samples) / tpw.pdf(samples)\n",
    "result = np.average(g_samples, weights=weights)\n",
    "\n",
    "print \"average of model pdf (weighted simulation)\", result\n",
    "\n",
    "# variance of estimated means from toys\n",
    "ntoys = int(1.e3)\n",
    "results = np.zeros(ntoys)\n",
    "\n",
    "for i in range(ntoys):\n",
    "    samples = tpw.sample_pareto(nsamples)\n",
    "    g_samples = g(samples)\n",
    "    weights = tp.pdf(samples) / tpw.pdf(samples)\n",
    "    results[i] = np.average(g_samples, weights=weights)\n",
    "    \n",
    "print \"standard error of estimator:\", np.sqrt(np.var(results))"
   ]
  },
  {
   "cell_type": "code",
   "execution_count": null,
   "metadata": {},
   "outputs": [],
   "source": []
  }
 ],
 "metadata": {
  "kernelspec": {
   "display_name": "Python 2",
   "language": "python",
   "name": "python2"
  },
  "language_info": {
   "codemirror_mode": {
    "name": "ipython",
    "version": 2
   },
   "file_extension": ".py",
   "mimetype": "text/x-python",
   "name": "python",
   "nbconvert_exporter": "python",
   "pygments_lexer": "ipython2",
   "version": "2.7.16"
  }
 },
 "nbformat": 4,
 "nbformat_minor": 2
}
